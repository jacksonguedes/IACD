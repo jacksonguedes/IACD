{
  "nbformat": 4,
  "nbformat_minor": 0,
  "metadata": {
    "colab": {
      "provenance": [],
      "authorship_tag": "ABX9TyNKJ7eBkf1JB7Kgbe/p5tmn",
      "include_colab_link": true
    },
    "kernelspec": {
      "name": "python3",
      "display_name": "Python 3"
    },
    "language_info": {
      "name": "python"
    }
  },
  "cells": [
    {
      "cell_type": "markdown",
      "metadata": {
        "id": "view-in-github",
        "colab_type": "text"
      },
      "source": [
        "<a href=\"https://colab.research.google.com/github/jacksonguedes/IACD/blob/main/Keras_DeepLearning_Recon_Numeros.ipynb\" target=\"_parent\"><img src=\"https://colab.research.google.com/assets/colab-badge.svg\" alt=\"Open In Colab\"/></a>"
      ]
    },
    {
      "cell_type": "code",
      "source": [
        "import matplotlib.pyplot as plt\n",
        "from keras.models import Sequential\n",
        "from keras.layers import Dense, Dropout\n",
        "#from keras.utils import np_utils\n",
        "from keras.utils import to_categorical\n",
        "import numpy as np\n",
        "from sklearn.metrics import confusion_matrix\n",
        "from keras.datasets import mnist"
      ],
      "metadata": {
        "id": "3VtoQ0BgRLFF"
      },
      "execution_count": 9,
      "outputs": []
    },
    {
      "cell_type": "code",
      "source": [
        "# Problema consiste em desenvolver um modelo neural baseado em Deep Learning\n",
        "# para possibilitar a decodificação de caracteres manuscritos presentes na\n",
        "# base de dados mnist. Esta base de dados possui 60 mil exemplos de treinamento\n",
        "# 10 mil exemplos de teste com atributos dispostos em formato de uma matriz\n",
        "# 28x28, onde o valor de cada elemento corresponde a um pixel ativo ou nao. Os\n",
        "# pixels ativos compõe o digito."
      ],
      "metadata": {
        "id": "YWp4b_igT6Uj"
      },
      "execution_count": null,
      "outputs": []
    },
    {
      "cell_type": "code",
      "source": [
        "#Obtenção dos dados e divisao automatica entre treinamento e teste\n",
        "(X_treinamento, y_treinamento), (X_teste, y_teste) = mnist.load_data()"
      ],
      "metadata": {
        "colab": {
          "base_uri": "https://localhost:8080/"
        },
        "id": "x__n8oaxS86n",
        "outputId": "08c9fcc2-c6e5-4c9e-9ef9-33b8b24334b1"
      },
      "execution_count": 10,
      "outputs": [
        {
          "output_type": "stream",
          "name": "stdout",
          "text": [
            "Downloading data from https://storage.googleapis.com/tensorflow/tf-keras-datasets/mnist.npz\n",
            "11490434/11490434 [==============================] - 0s 0us/step\n"
          ]
        }
      ]
    },
    {
      "cell_type": "code",
      "source": [
        "# visualisao de imagens especificas\n",
        "plt.imshow(X_treinamento[80], cmap = 'gray')"
      ],
      "metadata": {
        "colab": {
          "base_uri": "https://localhost:8080/",
          "height": 469
        },
        "id": "ACDNvbslTTQt",
        "outputId": "e59b7f9e-108c-4fef-a74a-d7681cf002bf"
      },
      "execution_count": 11,
      "outputs": [
        {
          "output_type": "execute_result",
          "data": {
            "text/plain": [
              "Text(0.5, 1.0, '9')"
            ]
          },
          "metadata": {},
          "execution_count": 11
        },
        {
          "output_type": "display_data",
          "data": {
            "text/plain": [
              "<Figure size 640x480 with 1 Axes>"
            ],
            "image/png": "[encoded data removed]"
          },
          "metadata": {}
        }
      ]
    },
    {
      "cell_type": "code",
      "source": [
        "# Mudança de dimensão, originalmente está em 28x28 e precisamos 784\n",
        "# Os primeiros 784 atributos correspodem à transformação de uma matriz\n",
        "# de 28x28 pixels corresponde ao digito em um vetor unidimensional. O atributo\n",
        "# 785 corresponde ao rótulo do digito (alvo)"
      ],
      "metadata": {
        "id": "9OiceaqTT-St"
      },
      "execution_count": null,
      "outputs": []
    },
    {
      "cell_type": "code",
      "source": [
        "X_treinamento = X_treinamento.reshape((len(X_treinamento), np.prod(X_treinamento.shape[1:])))\n",
        "X_teste = X_teste.reshape((len(X_teste), np.prod(X_teste.shape[1:])))\n",
        "x = X_treinamento[80]"
      ],
      "metadata": {
        "id": "E2e6zvr_T_F4"
      },
      "execution_count": 12,
      "outputs": []
    },
    {
      "cell_type": "code",
      "source": [
        "# transformação dos dados para float para podermos normalizar os dados\n",
        "X_treinamento = X_treinamento.astype('float32')\n",
        "X_teste = X_teste.astype('float32')"
      ],
      "metadata": {
        "id": "DQnbxXQlUp9O"
      },
      "execution_count": 13,
      "outputs": []
    },
    {
      "cell_type": "code",
      "source": [
        "# Normalização (255 é o valor máximo de um pixel)\n",
        "X_treinamento /= 255\n",
        "X_teste /= 255"
      ],
      "metadata": {
        "id": "wDjWuMJWU58c"
      },
      "execution_count": 14,
      "outputs": []
    },
    {
      "cell_type": "code",
      "source": [
        "# transfomação para o formato dumpy (temos 10 classes)\n",
        "# Y_treinamento = np_utils.to_categorical(y_treinamento, 10)\n",
        "# y_teste = np_utils.to_categorical(y_teste, 10)\n",
        "y_treinamento = to_categorical(y_treinamento, 10)\n",
        "y_teste = to_categorical(y_teste, 10)\n",
        "y_treinamento[80]"
      ],
      "metadata": {
        "colab": {
          "base_uri": "https://localhost:8080/"
        },
        "id": "6_2so0eaVDb4",
        "outputId": "29b3b13e-9de3-47a5-c206-33108af43b37"
      },
      "execution_count": 15,
      "outputs": [
        {
          "output_type": "execute_result",
          "data": {
            "text/plain": [
              "array([0., 0., 0., 0., 0., 0., 0., 0., 0., 1.], dtype=float32)"
            ]
          },
          "metadata": {},
          "execution_count": 15
        }
      ]
    },
    {
      "cell_type": "code",
      "source": [
        "# Estrutura da rede neural: 784 - 64 - 64 - 64 - 10\n",
        "# Dropout é utilizado para zerar uma porcentagem dos neuronios, para evitar o overfitting\n",
        "modelo = Sequential()\n",
        "modelo.add(Dense(units = 64, activation = 'relu', input_dim = 784))\n",
        "modelo.add(Dropout(0.1))\n",
        "\n",
        "modelo.add(Dense(units = 64, activation = 'relu'))\n",
        "modelo.add(Dropout(0.1))\n",
        "\n",
        "modelo.add(Dense(units = 64, activation = 'relu'))\n",
        "modelo.add(Dropout(0.1))\n",
        "#camda de saida, softmax probabilidade\n",
        "\n",
        "modelo.add(Dense(units = 10, activation = 'softmax'))\n"
      ],
      "metadata": {
        "id": "PfDPpn00WHpY"
      },
      "execution_count": 16,
      "outputs": []
    },
    {
      "cell_type": "code",
      "source": [
        "# visualizacao da estrutura da rede neural\n",
        "modelo.summary()"
      ],
      "metadata": {
        "colab": {
          "base_uri": "https://localhost:8080/"
        },
        "id": "qpNiEK9AXPy7",
        "outputId": "4bb6b32e-cd2e-4e32-aa88-f1da2d01c401"
      },
      "execution_count": 17,
      "outputs": [
        {
          "output_type": "stream",
          "name": "stdout",
          "text": [
            "Model: \"sequential\"\n",
            "_________________________________________________________________\n",
            " Layer (type)                Output Shape              Param #   \n",
            "=================================================================\n",
            " dense (Dense)               (None, 64)                50240     \n",
            "                                                                 \n",
            " dropout (Dropout)           (None, 64)                0         \n",
            "                                                                 \n",
            " dense_1 (Dense)             (None, 64)                4160      \n",
            "                                                                 \n",
            " dropout_1 (Dropout)         (None, 64)                0         \n",
            "                                                                 \n",
            " dense_2 (Dense)             (None, 64)                4160      \n",
            "                                                                 \n",
            " dropout_2 (Dropout)         (None, 64)                0         \n",
            "                                                                 \n",
            " dense_3 (Dense)             (None, 10)                650       \n",
            "                                                                 \n",
            "=================================================================\n",
            "Total params: 59210 (231.29 KB)\n",
            "Trainable params: 59210 (231.29 KB)\n",
            "Non-trainable params: 0 (0.00 Byte)\n",
            "_________________________________________________________________\n"
          ]
        }
      ]
    },
    {
      "cell_type": "code",
      "source": [
        "# Configuracao dos parametros da rede neural e treinamento (utilizando base de dados de validação)\n",
        "# Na variável historico temos os historicos das execucoes (erro e acuracy)\n",
        "# optimizer = Adam, RMSprop, SGD, etc..\n",
        "modelo.compile(optimizer = 'Adam', loss = 'categorical_crossentropy',\n",
        "               metrics = ['accuracy'])\n",
        "historico = modelo.fit(X_treinamento, y_treinamento, epochs = 20,\n",
        "                       validation_data = (X_teste, y_teste))\n",
        "\n"
      ],
      "metadata": {
        "colab": {
          "base_uri": "https://localhost:8080/"
        },
        "id": "dJr50cAbXsks",
        "outputId": "3573cf2a-cbc2-401a-e67a-da65e14bd401"
      },
      "execution_count": 19,
      "outputs": [
        {
          "output_type": "stream",
          "name": "stdout",
          "text": [
            "Epoch 1/20\n",
            "1875/1875 [==============================] - 8s 4ms/step - loss: 0.3597 - accuracy: 0.8893 - val_loss: 0.1537 - val_accuracy: 0.9545\n",
            "Epoch 2/20\n",
            "1875/1875 [==============================] - 5s 3ms/step - loss: 0.1755 - accuracy: 0.9471 - val_loss: 0.1190 - val_accuracy: 0.9638\n",
            "Epoch 3/20\n",
            "1875/1875 [==============================] - 6s 3ms/step - loss: 0.1399 - accuracy: 0.9585 - val_loss: 0.1026 - val_accuracy: 0.9692\n",
            "Epoch 4/20\n",
            "1875/1875 [==============================] - 5s 3ms/step - loss: 0.1194 - accuracy: 0.9639 - val_loss: 0.0946 - val_accuracy: 0.9700\n",
            "Epoch 5/20\n",
            "1875/1875 [==============================] - 7s 4ms/step - loss: 0.1070 - accuracy: 0.9680 - val_loss: 0.1014 - val_accuracy: 0.9708\n",
            "Epoch 6/20\n",
            "1875/1875 [==============================] - 5s 3ms/step - loss: 0.0960 - accuracy: 0.9707 - val_loss: 0.0922 - val_accuracy: 0.9737\n",
            "Epoch 7/20\n",
            "1875/1875 [==============================] - 6s 3ms/step - loss: 0.0878 - accuracy: 0.9725 - val_loss: 0.0855 - val_accuracy: 0.9765\n",
            "Epoch 8/20\n",
            "1875/1875 [==============================] - 5s 3ms/step - loss: 0.0813 - accuracy: 0.9747 - val_loss: 0.0919 - val_accuracy: 0.9733\n",
            "Epoch 9/20\n",
            "1875/1875 [==============================] - 6s 3ms/step - loss: 0.0760 - accuracy: 0.9759 - val_loss: 0.0915 - val_accuracy: 0.9734\n",
            "Epoch 10/20\n",
            "1875/1875 [==============================] - 6s 3ms/step - loss: 0.0727 - accuracy: 0.9774 - val_loss: 0.0840 - val_accuracy: 0.9758\n",
            "Epoch 11/20\n",
            "1875/1875 [==============================] - 6s 3ms/step - loss: 0.0692 - accuracy: 0.9780 - val_loss: 0.0869 - val_accuracy: 0.9756\n",
            "Epoch 12/20\n",
            "1875/1875 [==============================] - 6s 3ms/step - loss: 0.0662 - accuracy: 0.9792 - val_loss: 0.0889 - val_accuracy: 0.9759\n",
            "Epoch 13/20\n",
            "1875/1875 [==============================] - 6s 3ms/step - loss: 0.0626 - accuracy: 0.9807 - val_loss: 0.0846 - val_accuracy: 0.9763\n",
            "Epoch 14/20\n",
            "1875/1875 [==============================] - 6s 3ms/step - loss: 0.0605 - accuracy: 0.9807 - val_loss: 0.0806 - val_accuracy: 0.9780\n",
            "Epoch 15/20\n",
            "1875/1875 [==============================] - 5s 3ms/step - loss: 0.0580 - accuracy: 0.9816 - val_loss: 0.0862 - val_accuracy: 0.9773\n",
            "Epoch 16/20\n",
            "1875/1875 [==============================] - 8s 4ms/step - loss: 0.0548 - accuracy: 0.9829 - val_loss: 0.0931 - val_accuracy: 0.9760\n",
            "Epoch 17/20\n",
            "1875/1875 [==============================] - 11s 6ms/step - loss: 0.0544 - accuracy: 0.9826 - val_loss: 0.0876 - val_accuracy: 0.9773\n",
            "Epoch 18/20\n",
            "1875/1875 [==============================] - 9s 5ms/step - loss: 0.0547 - accuracy: 0.9827 - val_loss: 0.0908 - val_accuracy: 0.9753\n",
            "Epoch 19/20\n",
            "1875/1875 [==============================] - 9s 5ms/step - loss: 0.0511 - accuracy: 0.9840 - val_loss: 0.0937 - val_accuracy: 0.9760\n",
            "Epoch 20/20\n",
            "1875/1875 [==============================] - 9s 5ms/step - loss: 0.0502 - accuracy: 0.9839 - val_loss: 0.0964 - val_accuracy: 0.9771\n"
          ]
        }
      ]
    },
    {
      "cell_type": "code",
      "source": [
        "plt.figure(2)\n",
        "# Gráfico para visualizar os erros e accuracy\n",
        "historico.history.keys()\n",
        "#evolução do erro, azul\n",
        "plt.plot(historico.history['val_loss'], label = 'Loss')\n",
        "# performance da rede\n",
        "plt.plot(historico.history['val_accuracy'], label = 'Accuracy')\n",
        "plt.legend()\n",
        "plt.show()\n",
        "\n",
        "# Perdas e Acuracia de validação"
      ],
      "metadata": {
        "colab": {
          "base_uri": "https://localhost:8080/",
          "height": 430
        },
        "id": "KuekjRRrjw9i",
        "outputId": "c384d974-5205-4b4b-c20b-9417c8251da7"
      },
      "execution_count": 20,
      "outputs": [
        {
          "output_type": "display_data",
          "data": {
            "text/plain": [
              "<Figure size 640x480 with 1 Axes>"
            ],
            "image/png": "[encoded data removed]"
          },
          "metadata": {}
        }
      ]
    },
    {
      "cell_type": "code",
      "source": [
        "# Obtenção das previsões\n",
        "previsoes = modelo.predict(X_teste)\n",
        "print(previsoes)"
      ],
      "metadata": {
        "colab": {
          "base_uri": "https://localhost:8080/"
        },
        "id": "m7ffgp9NZk4_",
        "outputId": "216c9597-b8c6-4c42-fc25-9108415709a3"
      },
      "execution_count": 21,
      "outputs": [
        {
          "output_type": "stream",
          "name": "stdout",
          "text": [
            "313/313 [==============================] - 1s 2ms/step\n",
            "[[5.8187000e-13 5.0875160e-10 8.8555021e-09 ... 9.9999803e-01\n",
            "  3.8405348e-11 1.8581120e-06]\n",
            " [1.9292300e-12 9.3257029e-08 9.9999982e-01 ... 2.9029287e-10\n",
            "  2.7610410e-11 1.1321046e-19]\n",
            " [2.0135719e-10 9.9998325e-01 1.4336636e-05 ... 1.4278856e-06\n",
            "  4.8864382e-07 3.5329922e-10]\n",
            " ...\n",
            " [4.1083783e-15 1.5304041e-10 5.0803246e-12 ... 2.9096314e-09\n",
            "  8.2000049e-12 2.1684848e-07]\n",
            " [3.5159532e-19 1.0341725e-19 6.4538582e-21 ... 5.5339217e-20\n",
            "  1.3614792e-13 4.9934523e-15]\n",
            " [2.6323423e-12 3.9868375e-17 1.2167386e-16 ... 4.3152945e-23\n",
            "  1.1304868e-11 4.2458794e-16]]\n"
          ]
        }
      ]
    },
    {
      "cell_type": "code",
      "source": [
        "# valor maximo (com a probabilidafde maior por serem 10n saidas) e geração da matrix de confusao\n",
        "y_teste_matriz = [np.argmax(t) for t in y_teste]\n",
        "y_previsoes_matriz = [np.argmax(t) for t in previsoes]\n",
        "confusao = confusion_matrix(y_teste_matriz, y_previsoes_matriz)\n",
        "print(confusao)"
      ],
      "metadata": {
        "colab": {
          "base_uri": "https://localhost:8080/"
        },
        "id": "wlM_J3ptaBV_",
        "outputId": "cf6f7613-4bae-488b-c178-9d1d4749edfb"
      },
      "execution_count": 26,
      "outputs": [
        {
          "output_type": "stream",
          "name": "stdout",
          "text": [
            "[[ 972    1    1    1    0    1    1    1    2    0]\n",
            " [   0 1125    3    2    0    1    1    1    2    0]\n",
            " [   6    2 1013    1    1    0    2    2    5    0]\n",
            " [   0    0    5  977    0   17    0    6    5    0]\n",
            " [   0    0    4    0  967    0    2    1    0    8]\n",
            " [   4    1    0    3    0  875    2    2    4    1]\n",
            " [   6    3    1    0    7    6  933    0    2    0]\n",
            " [   2    1    9    4    1    0    0 1006    0    5]\n",
            " [   7    1    5    4    2   11    1    4  935    4]\n",
            " [   1    2    0    4   17    7    1    8    1  968]]\n"
          ]
        }
      ]
    },
    {
      "cell_type": "code",
      "source": [
        "# Previsao com um novo registro, convertendo o array para o formato de matriz numero 9\n",
        "print(y_treinamento[80])\n",
        "\n",
        "#passo a mesma posicao para o modelo prever\n",
        "novo= X_treinamento[80]\n",
        "#de matriz para vetor\n",
        "novo = np.expand_dims(novo, axis = 0)\n",
        "#previsao\n",
        "pred = modelo.predict(novo)\n",
        "#maior valor\n",
        "print(np.argmax(pred))"
      ],
      "metadata": {
        "colab": {
          "base_uri": "https://localhost:8080/"
        },
        "id": "GV0wqcq8autu",
        "outputId": "94a73784-12c5-4809-f0ac-6e172dc31f93"
      },
      "execution_count": 27,
      "outputs": [
        {
          "output_type": "stream",
          "name": "stdout",
          "text": [
            "[0. 0. 0. 0. 0. 0. 0. 0. 0. 1.]\n",
            "1/1 [==============================] - 0s 20ms/step\n",
            "8\n"
          ]
        }
      ]
    },
    {
      "cell_type": "code",
      "source": [
        "pred"
      ],
      "metadata": {
        "colab": {
          "base_uri": "https://localhost:8080/"
        },
        "id": "Cv75p7N5qEz5",
        "outputId": "f5800ca1-9b24-40f2-dba1-3e04163854ac"
      },
      "execution_count": 28,
      "outputs": [
        {
          "output_type": "execute_result",
          "data": {
            "text/plain": [
              "array([[2.6669246e-01, 3.6572074e-04, 4.9470784e-03, 7.0853522e-03,\n",
              "        9.8150112e-03, 1.6252635e-03, 2.7702707e-03, 2.6900892e-04,\n",
              "        5.1760757e-01, 1.8882222e-01]], dtype=float32)"
            ]
          },
          "metadata": {},
          "execution_count": 28
        }
      ]
    }
  ]
}