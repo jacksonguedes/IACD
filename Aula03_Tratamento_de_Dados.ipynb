{
  "nbformat": 4,
  "nbformat_minor": 0,
  "metadata": {
    "colab": {
      "provenance": [],
      "authorship_tag": "ABX9TyOoELE70sjeK6+XawcXQRBr",
      "include_colab_link": true
    },
    "kernelspec": {
      "name": "python3",
      "display_name": "Python 3"
    },
    "language_info": {
      "name": "python"
    }
  },
  "cells": [
    {
      "cell_type": "markdown",
      "metadata": {
        "id": "view-in-github",
        "colab_type": "text"
      },
      "source": [
        "<a href=\"https://colab.research.google.com/github/jacksonguedes/IACD/blob/main/Aula03_Tratamento_de_Dados.ipynb\" target=\"_parent\"><img src=\"https://colab.research.google.com/assets/colab-badge.svg\" alt=\"Open In Colab\"/></a>"
      ]
    },
    {
      "cell_type": "code",
      "execution_count": 1,
      "metadata": {
        "id": "1l4YcvSnX1ya"
      },
      "outputs": [],
      "source": [
        "import pandas as pd\n",
        "import numpy as np\n",
        "\n",
        "from sklearn.model_selection import train_test_split\n",
        "\n",
        "from math import ceil\n",
        "\n",
        "from scipy import stats\n",
        "from scipy.stats import norm, skewnorm\n",
        "import matplotlib.pyplot as plt\n",
        "\n",
        "import seaborn as srn"
      ]
    },
    {
      "cell_type": "code",
      "source": [
        "# Carregando base de dados\n",
        "base = pd.read_csv('iris2.csv')\n",
        "print(base.head())\n",
        " # Verificando linhas e colunas\n",
        "print(base.shape)"
      ],
      "metadata": {
        "colab": {
          "base_uri": "https://localhost:8080/"
        },
        "id": "w0xR8UdwYGqr",
        "outputId": "e3667145-1dcd-4175-cbbe-f2bbed2d4ac1"
      },
      "execution_count": 5,
      "outputs": [
        {
          "output_type": "stream",
          "name": "stdout",
          "text": [
            "   sepal length  sepal width  petal length  petal width        class\n",
            "0           5.1          3.5           1.4          0.2  Iris-setosa\n",
            "1           4.9          3.0           1.4          0.2  Iris-setosa\n",
            "2           4.7          3.2           1.3          0.2  Iris-setosa\n",
            "3           4.6          3.1           1.5          0.2  Iris-setosa\n",
            "4           5.0          3.6           1.4          0.2  Iris-setosa\n",
            "(150, 5)\n"
          ]
        }
      ]
    },
    {
      "cell_type": "code",
      "source": [
        "# Semente aleatoria\n",
        "np.random.seed(3000)\n",
        "# 150 amostras, de 0 a 1, segundo as probabilidade indicadas por p\n",
        "# a = 0 testes e a = 1 treinamento, probabilidade (p) 70% para a = 0\n",
        "amostra = np.random.choice(a = [0, 1], size = 150, replace = True,\n",
        "                           p=[0.7,0.3])\n",
        "# Visualizar em variable explorer.\n",
        "\n",
        "print(len(amostra)) # comprimento"
      ],
      "metadata": {
        "colab": {
          "base_uri": "https://localhost:8080/"
        },
        "id": "PFWDeAAJYy1z",
        "outputId": "0f50cc81-b638-4040-ebd0-adbd98178828"
      },
      "execution_count": 6,
      "outputs": [
        {
          "output_type": "stream",
          "name": "stdout",
          "text": [
            "150\n"
          ]
        }
      ]
    },
    {
      "cell_type": "code",
      "source": [
        "print(len(amostra[amostra==1])) # 39 dados separados para teste"
      ],
      "metadata": {
        "colab": {
          "base_uri": "https://localhost:8080/"
        },
        "id": "3rI-qIcfY_8J",
        "outputId": "f48fc2ed-bf07-4391-a3a7-3d34710bec52"
      },
      "execution_count": 7,
      "outputs": [
        {
          "output_type": "stream",
          "name": "stdout",
          "text": [
            "39\n"
          ]
        }
      ]
    },
    {
      "cell_type": "code",
      "source": [
        "print(len(amostra[amostra==0])) # 111 dados separados para treinos. Foi escolhidos aleatoriamente"
      ],
      "metadata": {
        "colab": {
          "base_uri": "https://localhost:8080/"
        },
        "id": "9zxx2zB1ZDUa",
        "outputId": "029903a1-92d7-4602-db55-170cd8e39479"
      },
      "execution_count": 8,
      "outputs": [
        {
          "output_type": "stream",
          "name": "stdout",
          "text": [
            "111\n"
          ]
        }
      ]
    },
    {
      "cell_type": "code",
      "source": [
        "print(amostra)"
      ],
      "metadata": {
        "colab": {
          "base_uri": "https://localhost:8080/"
        },
        "id": "w1DN2w5rZGBy",
        "outputId": "468b355f-dad7-4605-c24b-9cd340e3df11"
      },
      "execution_count": 9,
      "outputs": [
        {
          "output_type": "stream",
          "name": "stdout",
          "text": [
            "[0 0 1 0 0 1 1 0 0 0 0 0 0 1 0 0 1 1 0 0 0 0 0 0 1 1 1 0 0 1 1 0 0 1 1 0 0\n",
            " 0 0 0 0 0 1 0 1 0 0 0 0 0 0 1 0 1 0 1 0 0 0 0 0 0 0 0 0 0 0 1 0 1 1 1 0 0\n",
            " 1 0 1 1 1 0 1 0 0 0 0 0 0 0 1 1 1 0 1 0 0 0 0 0 0 0 0 0 0 0 0 0 1 0 0 0 0\n",
            " 0 1 0 0 0 0 0 0 0 0 0 0 0 0 0 0 0 0 0 0 0 0 0 0 1 0 0 0 0 1 1 0 1 1 0 0 1\n",
            " 0 0]\n"
          ]
        }
      ]
    },
    {
      "cell_type": "code",
      "source": [
        "# Nova base de dados gerados a partir dos indices obtidos no teste amostra == 0\n",
        "base_trein = base.loc[amostra == 0] # Localiza os indices em que amostra == 0 e armazena em base treinamento\n",
        "print(base_trein.shape)"
      ],
      "metadata": {
        "colab": {
          "base_uri": "https://localhost:8080/"
        },
        "id": "PV-kJizcZL2C",
        "outputId": "7d1383ee-a104-4a0c-c423-c48df87c6cc8"
      },
      "execution_count": 10,
      "outputs": [
        {
          "output_type": "stream",
          "name": "stdout",
          "text": [
            "(111, 5)\n"
          ]
        }
      ]
    },
    {
      "cell_type": "code",
      "source": [
        "base_teste = base.loc[amostra == 1] # Indices em que o array é igual a 1\n",
        "print(base_teste.shape)"
      ],
      "metadata": {
        "colab": {
          "base_uri": "https://localhost:8080/"
        },
        "id": "p_J5ljNTZVsi",
        "outputId": "0e10a30c-f920-40a6-90c6-417e2611704f"
      },
      "execution_count": 11,
      "outputs": [
        {
          "output_type": "stream",
          "name": "stdout",
          "text": [
            "(39, 5)\n"
          ]
        }
      ]
    },
    {
      "cell_type": "code",
      "source": [
        "# AMOSTRAGEM ESTRATIFICADA\n",
        "\n",
        "# No treianemnto gera uma base de dados balanceada para uma base de dados desbalanceada\n",
        "print(base['class'].value_counts())\n",
        "\n",
        "x, _, y, _ = train_test_split(base.iloc[:,0:4], base.iloc[:,4], test_size = 0.3, stratify = base.iloc[:,4])"
      ],
      "metadata": {
        "colab": {
          "base_uri": "https://localhost:8080/"
        },
        "id": "znNNZ4tEZdHq",
        "outputId": "61f7e951-929e-4e73-e3e7-43358eed340f"
      },
      "execution_count": 12,
      "outputs": [
        {
          "output_type": "stream",
          "name": "stdout",
          "text": [
            "Iris-setosa        50\n",
            "Iris-versicolor    50\n",
            "Iris-virginica     50\n",
            "Name: class, dtype: int64\n"
          ]
        }
      ]
    },
    {
      "cell_type": "code",
      "source": [
        "# Sem considerar a estratificação\n",
        "x, _, y, _ = train_test_split(base.iloc[:,0:4], base.iloc[:,4], test_size = 0.3)\n",
        "print(y.value_counts()) # Vê a divisão da base de dados"
      ],
      "metadata": {
        "colab": {
          "base_uri": "https://localhost:8080/"
        },
        "id": "jon4hAlDZg1i",
        "outputId": "b7473d83-12cc-4359-f2b7-33a2bb9c3c16"
      },
      "execution_count": 14,
      "outputs": [
        {
          "output_type": "stream",
          "name": "stdout",
          "text": [
            "Iris-versicolor    36\n",
            "Iris-setosa        35\n",
            "Iris-virginica     34\n",
            "Name: class, dtype: int64\n"
          ]
        }
      ]
    },
    {
      "cell_type": "markdown",
      "source": [
        "## Base de dados de mulheres inférteis"
      ],
      "metadata": {
        "id": "TJxz3caQZ2Ma"
      }
    },
    {
      "cell_type": "code",
      "source": [
        "# Base de dados de mulheres inferteis\n",
        "infert = pd.read_csv('infert.csv')\n",
        "print(infert.head())"
      ],
      "metadata": {
        "colab": {
          "base_uri": "https://localhost:8080/"
        },
        "id": "ypaheiC1Z8uK",
        "outputId": "50de39d7-e130-4ff3-9acc-8b3d91b42a3a"
      },
      "execution_count": 15,
      "outputs": [
        {
          "output_type": "stream",
          "name": "stdout",
          "text": [
            "   Unnamed: 0 education  age  parity  induced  case  spontaneous  stratum  \\\n",
            "0           1    0-5yrs   26       6        1     1            2        1   \n",
            "1           2    0-5yrs   42       1        1     1            0        2   \n",
            "2           3    0-5yrs   39       6        2     1            0        3   \n",
            "3           4    0-5yrs   34       4        2     1            0        4   \n",
            "4           5   6-11yrs   35       3        1     1            1        5   \n",
            "\n",
            "   pooled.stratum  \n",
            "0               3  \n",
            "1               1  \n",
            "2               4  \n",
            "3               2  \n",
            "4              32  \n"
          ]
        }
      ]
    },
    {
      "cell_type": "code",
      "source": [
        "# Mostra a contagem de registros considerados o atributo educação\n",
        "print(infert['education'].value_counts()) # Quantidade desbalanceada\n",
        "\n",
        "x1, _, y1, _ = train_test_split(infert.iloc[:, 2:9], infert.iloc[:,1], test_size = 0.6, stratify = infert.iloc[:,1])"
      ],
      "metadata": {
        "colab": {
          "base_uri": "https://localhost:8080/"
        },
        "id": "JoWsOfGaaBAm",
        "outputId": "a4a60859-e660-4713-abfe-1a2216c13587"
      },
      "execution_count": 17,
      "outputs": [
        {
          "output_type": "stream",
          "name": "stdout",
          "text": [
            "6-11yrs    120\n",
            "12+ yrs    116\n",
            "0-5yrs      12\n",
            "Name: education, dtype: int64\n"
          ]
        }
      ]
    },
    {
      "cell_type": "code",
      "source": [
        "x1, _, y1,_ = train_test_split(infert.iloc[:, 2:9], infert.iloc[:,1], test_size = 0.6)\n",
        "\n",
        "print(y1.value_counts())"
      ],
      "metadata": {
        "colab": {
          "base_uri": "https://localhost:8080/"
        },
        "id": "63PyUmUwaHFy",
        "outputId": "82ea5ada-45f9-4b22-98b7-9115813a7836"
      },
      "execution_count": 18,
      "outputs": [
        {
          "output_type": "stream",
          "name": "stdout",
          "text": [
            "6-11yrs    49\n",
            "12+ yrs    47\n",
            "0-5yrs      3\n",
            "Name: education, dtype: int64\n"
          ]
        }
      ]
    },
    {
      "cell_type": "code",
      "source": [
        "# AMOSTRAGEM SISTEMATICA\n",
        "\n",
        "# criação das variáveis\n",
        "\n",
        "tam_populacao = 150 # quantidade de instancias da base IRIS\n",
        "tam_amostra = 15  # quantidade de instancias que serao amostradas\n",
        "espa = ceil(tam_populacao / tam_amostra)\n",
        "print(espa)"
      ],
      "metadata": {
        "colab": {
          "base_uri": "https://localhost:8080/"
        },
        "id": "7EbN4hbnaO3K",
        "outputId": "9df5349e-974e-46a4-904c-722a93e9934e"
      },
      "execution_count": 19,
      "outputs": [
        {
          "output_type": "stream",
          "name": "stdout",
          "text": [
            "10\n"
          ]
        }
      ]
    },
    {
      "cell_type": "code",
      "source": [
        "# DEFINIR UM VETOR RANDOMICO PARA INICIALIZAR VETOR DE ESCOLHIDOS\n",
        "# Iniciando em 1 até espa |+ 1\n",
        "r_esco = np.random.randint(low = 1, high = espa + 1, size = 1)\n",
        "print(r_esco)"
      ],
      "metadata": {
        "colab": {
          "base_uri": "https://localhost:8080/"
        },
        "id": "vcDrz2qeaSw8",
        "outputId": "77f716be-83c9-4bc2-94f4-b1ab0a544580"
      },
      "execution_count": 20,
      "outputs": [
        {
          "output_type": "stream",
          "name": "stdout",
          "text": [
            "[10]\n"
          ]
        }
      ]
    },
    {
      "cell_type": "code",
      "source": [
        "# Criamos um for para somar os proximos valores, baseado no primeiro valor r\n",
        "acumulador = r_esco[0] # Primeiro elemento\n",
        "sorteados = []\n",
        "for i in range(tam_amostra):\n",
        "    sorteados.append(acumulador)\n",
        "    acumulador += espa\n",
        "print(sorteados)"
      ],
      "metadata": {
        "colab": {
          "base_uri": "https://localhost:8080/"
        },
        "id": "WaPBxyncaUPU",
        "outputId": "bb67f1f7-8d58-407d-dda2-0ce1fb5e9a56"
      },
      "execution_count": 21,
      "outputs": [
        {
          "output_type": "stream",
          "name": "stdout",
          "text": [
            "[10, 20, 30, 40, 50, 60, 70, 80, 90, 100, 110, 120, 130, 140, 150]\n"
          ]
        }
      ]
    },
    {
      "cell_type": "code",
      "source": [
        "print(len(sorteados))"
      ],
      "metadata": {
        "colab": {
          "base_uri": "https://localhost:8080/"
        },
        "id": "CLUQvOwEaZri",
        "outputId": "acc7a6dd-0162-40ef-f51b-89675b866afd"
      },
      "execution_count": 22,
      "outputs": [
        {
          "output_type": "stream",
          "name": "stdout",
          "text": [
            "15\n"
          ]
        }
      ]
    },
    {
      "cell_type": "code",
      "source": [
        "# Carregando a base de dados e criamos a base_final somente com os valores sorteados\n",
        "base = pd.read_csv('iris2.csv')\n",
        "base_final = base.loc[sorteados]\n",
        "print(base_final)"
      ],
      "metadata": {
        "id": "Bgf23j1nabwh"
      },
      "execution_count": null,
      "outputs": []
    },
    {
      "cell_type": "code",
      "source": [
        "# Métricas de centrailidade e variabillidade\n",
        "# Criação da variável com os  salarios dos jogadores\n",
        "jogadores = [40000, 18000, 12000, 250000, 30000, 140000, 300000, 40000, 800000]"
      ],
      "metadata": {
        "id": "Q7x0OwMladOL"
      },
      "execution_count": 25,
      "outputs": []
    },
    {
      "cell_type": "code",
      "source": [
        "print(np.mean(jogadores)) # média\n",
        "print(np.median(jogadores)) # mediana\n",
        " # media  = media = moda = simétrica"
      ],
      "metadata": {
        "colab": {
          "base_uri": "https://localhost:8080/"
        },
        "id": "XsabDy9JbZqz",
        "outputId": "6cbe0916-f579-43e8-dc2c-2999e154f224"
      },
      "execution_count": 26,
      "outputs": [
        {
          "output_type": "stream",
          "name": "stdout",
          "text": [
            "181111.11111111112\n",
            "40000.0\n"
          ]
        }
      ]
    },
    {
      "cell_type": "code",
      "source": [
        "# Criação da variável para geração dos quartis(0%, 25%...)\n",
        "quartis = np.quantile(jogadores, [0, 0.25, 0.5, 0.75, 1])\n",
        "print(quartis)"
      ],
      "metadata": {
        "colab": {
          "base_uri": "https://localhost:8080/"
        },
        "id": "CpLwjd7Rbcay",
        "outputId": "0aaa7629-7e52-4eec-9de4-199376b2a68a"
      },
      "execution_count": 27,
      "outputs": [
        {
          "output_type": "stream",
          "name": "stdout",
          "text": [
            "[ 12000.  30000.  40000. 250000. 800000.]\n"
          ]
        }
      ]
    },
    {
      "cell_type": "code",
      "source": [
        "# Visualização do desvio padrão. ddof = 1 -> default\n",
        "print(np.std(jogadores, ddof = 1))\n",
        "# Curtóse\n",
        "# Visualização de estatiticas mais detalhada usando a biblioteca scipy\n",
        "# Assimetria: moda, mediana e media sao iguais (simetria) (A=0), assimetrica (A<0 A é o coeficiente de Pearson)\n",
        "#Curtose: achatamento da curva normal. C <  0,263 distribuição leptocurtica(mais afilada)\n",
        "# c = 0,263 dist. mesocurtica c>0,263 distr. platicurtica (mais achatado)\n",
        "stats.describe(jogadores)\n",
        "\n",
        "srn.displot(x=jogadores, kde = True)"
      ],
      "metadata": {
        "colab": {
          "base_uri": "https://localhost:8080/",
          "height": 541
        },
        "id": "Bxxwc8vnbd3k",
        "outputId": "d952050b-4437-455f-b89f-44e4d1328023"
      },
      "execution_count": 28,
      "outputs": [
        {
          "output_type": "stream",
          "name": "stdout",
          "text": [
            "255307.87514511007\n"
          ]
        },
        {
          "output_type": "execute_result",
          "data": {
            "text/plain": [
              "<seaborn.axisgrid.FacetGrid at 0x7cd768a2e9e0>"
            ]
          },
          "metadata": {},
          "execution_count": 28
        },
        {
          "output_type": "display_data",
          "data": {
            "text/plain": [
              "<Figure size 500x500 with 1 Axes>"
            ],
            "image/png": "[encoded data removed]"
          },
          "metadata": {}
        }
      ]
    },
    {
      "cell_type": "code",
      "source": [
        "# DISTRIBUIÇÃO NORMAL\n",
        "\n",
        "# Conjunto de objetos em uma sacola contendo peso médio 8kg e o desvio padrão 2kg\n",
        "# Qual a probabilidade de tirar um objeto que o peso é menor que 6kg?\n",
        "\n",
        "norm.cdf(6, 8, 2)"
      ],
      "metadata": {
        "colab": {
          "base_uri": "https://localhost:8080/"
        },
        "id": "_LtwnF79bmSY",
        "outputId": "eca6b2ec-479a-4bb2-f032-fd7290372816"
      },
      "execution_count": 29,
      "outputs": [
        {
          "output_type": "execute_result",
          "data": {
            "text/plain": [
              "0.15865525393145707"
            ]
          },
          "metadata": {},
          "execution_count": 29
        }
      ]
    },
    {
      "cell_type": "code",
      "source": [
        "# sf é a função de sobrevivencia ou confiabilidade\n",
        "norm.sf(6, 8, 2)\n",
        "1 -  norm.cdf(6, 8, 2)"
      ],
      "metadata": {
        "colab": {
          "base_uri": "https://localhost:8080/"
        },
        "id": "1BAav1hKbq8T",
        "outputId": "a738dbb8-3f84-4a98-a3a7-d4831b263849"
      },
      "execution_count": 30,
      "outputs": [
        {
          "output_type": "execute_result",
          "data": {
            "text/plain": [
              "0.8413447460685429"
            ]
          },
          "metadata": {},
          "execution_count": 30
        }
      ]
    },
    {
      "cell_type": "code",
      "source": [
        "# Qual a probabilidade de tirar um objeto  que o peso é menor que 6 ou maior que 10 quilos\n",
        "norm.cdf(6, 8, 2) + norm.sf(10,8,2) # Probabilidade função acumulada"
      ],
      "metadata": {
        "colab": {
          "base_uri": "https://localhost:8080/"
        },
        "id": "NZfjfYtVbte9",
        "outputId": "ad9df404-0216-4628-deba-d2e5f55ab809"
      },
      "execution_count": 31,
      "outputs": [
        {
          "output_type": "execute_result",
          "data": {
            "text/plain": [
              "0.31731050786291415"
            ]
          },
          "metadata": {},
          "execution_count": 31
        }
      ]
    },
    {
      "cell_type": "code",
      "source": [
        "# Qual a probabilidad de tirar um objeto que peso é menor que 10 e maior que 8kg\n",
        "norm.cdf(10, 8, 2) - norm.cdf(8, 8, 2)"
      ],
      "metadata": {
        "colab": {
          "base_uri": "https://localhost:8080/"
        },
        "id": "N-ILgiKObvjK",
        "outputId": "acf1949b-a9a8-42db-82d8-55248f29a9f8"
      },
      "execution_count": 32,
      "outputs": [
        {
          "output_type": "execute_result",
          "data": {
            "text/plain": [
              "0.3413447460685429"
            ]
          },
          "metadata": {},
          "execution_count": 32
        }
      ]
    },
    {
      "cell_type": "code",
      "source": [
        "# TESTES PARA VERIFICAÇÃO DA DISTRIBUIÇÃO NORMAL\n",
        " # CRIAÇÃO DE UMA VARIAVEL COM DAODS EM UMA DISTRIBUIÇÃO NORMAL COM A FUNAÇAO RVS(1000ELEMENTOS)\n",
        "dados = norm.rvs(size = 1000)\n",
        "stats.describe(dados)\n",
        "print(dados)"
      ],
      "metadata": {
        "colab": {
          "base_uri": "https://localhost:8080/"
        },
        "id": "-0VsGONRbyFS",
        "outputId": "df6af24b-94ba-4be9-bdbc-142ac28c92f0"
      },
      "execution_count": 33,
      "outputs": [
        {
          "output_type": "stream",
          "name": "stdout",
          "text": [
            "[ 1.66289866e+00  1.07063919e+00  2.72797530e-01  1.00033773e+00\n",
            "  2.01510009e+00  8.20777777e-02  7.42469630e-01  6.16581839e-01\n",
            "  1.74588227e-01  3.25392429e-01  1.27008662e+00  8.07799014e-01\n",
            " -1.81031105e+00  4.00093595e-02 -1.77133523e+00  2.21993711e+00\n",
            "  5.56478096e-01 -1.49367900e-01 -2.14109063e-02  1.91918534e-01\n",
            "  1.64496538e-01  6.94618523e-01 -6.22813051e-01 -6.57030640e-01\n",
            "  9.13058349e-01  7.44151664e-01 -2.40425001e-01  1.06768167e+00\n",
            " -5.87461020e-01  2.72940146e-01 -3.08219609e-01 -7.09991276e-01\n",
            " -4.28590869e-01  1.84934715e-01 -1.48575422e+00 -1.51633899e+00\n",
            " -1.89163230e-02 -9.55471368e-01  1.50659498e-01  2.43566572e-01\n",
            " -6.63074985e-01  1.98577377e+00  6.85553038e-01 -7.42854693e-01\n",
            "  2.87344142e-01  3.71391383e-01  8.14314014e-01 -1.63306908e-01\n",
            " -1.63726801e+00  3.01765637e-01 -1.46041769e+00 -1.34704746e+00\n",
            " -7.77811134e-02 -7.96088425e-01 -1.52323606e+00 -8.06888715e-01\n",
            " -9.91570016e-01  5.56277899e-01  4.34771860e-01 -4.79773646e-01\n",
            "  2.47018884e+00 -1.15830224e+00 -1.23508793e-01 -2.27820281e-01\n",
            " -1.80408418e+00 -7.67312169e-01  1.16317033e-01  1.70223738e+00\n",
            " -1.00917443e+00 -1.81400211e-01  6.11358508e-01  1.98435385e-01\n",
            "  1.42482642e+00  9.16625894e-01  1.48269913e+00  1.52416543e+00\n",
            " -8.46332741e-01  2.21448603e-01 -7.07693193e-01  2.01955751e+00\n",
            "  2.39291187e-01  2.24523471e-01 -2.22728694e-01  3.16813815e-01\n",
            " -4.12635146e-01 -4.50260790e-01  2.83218699e-01  6.54923347e-01\n",
            " -5.48217818e-02  1.44951439e-01  9.81800378e-02 -4.61333614e-01\n",
            "  4.37516433e-01  5.06717246e-01 -3.91819538e-01 -5.11758196e-01\n",
            "  1.63963908e+00  6.66794069e-01 -5.99829146e-01 -4.92173672e-01\n",
            "  3.80216986e-01  1.57527854e+00 -3.05058851e-01  8.32267844e-02\n",
            "  4.49406835e-01  1.00965953e+00 -1.73536562e+00 -1.64524671e+00\n",
            " -7.78951526e-01  4.18026996e-02  2.00759399e+00  4.39981388e-02\n",
            "  5.70385867e-01 -8.58911069e-01 -1.68161102e+00 -2.19212822e-01\n",
            "  2.46808102e-01  1.82934792e-01  2.90754198e-01 -2.38426132e-01\n",
            "  1.46064237e-01 -3.49793794e-01 -9.41637444e-01  7.30498755e-01\n",
            "  2.44899587e-01  2.61361895e-01  1.38874471e-01 -1.96372310e+00\n",
            "  2.34811468e+00 -6.50456677e-01  1.02908416e+00  1.61184493e+00\n",
            " -6.42739800e-01 -5.35324106e-01  2.91497774e-01 -1.02943799e+00\n",
            " -9.03666353e-02  4.31639248e-01 -4.07263156e-01 -1.11621231e+00\n",
            " -7.41634365e-01 -1.09532609e+00 -1.63560388e-01  6.77385212e-01\n",
            " -3.44822063e-01  8.93559337e-01 -5.48590833e-01  8.81598428e-01\n",
            "  4.46941979e-01  9.76467346e-01  2.29813278e+00  2.83143186e-01\n",
            "  8.34407514e-01 -1.68036144e-01 -1.25982433e+00  1.28502718e+00\n",
            "  6.19410010e-01 -5.01586605e-01  1.25211823e-01  1.05448917e+00\n",
            "  6.12728047e-01 -1.01345025e+00 -9.11997692e-01  4.87365553e-03\n",
            " -1.24818638e+00 -2.20164517e-01 -8.24030721e-01 -6.25864596e-01\n",
            "  4.06647356e-01 -3.77040311e-01  1.09007842e+00  2.73165991e-01\n",
            "  6.75641885e-01 -8.82281029e-01 -1.00022303e+00  6.58752380e-01\n",
            "  1.33975814e-02 -4.84735371e-02  4.37971834e-01 -1.33372664e+00\n",
            " -1.82959116e+00 -2.77348135e-01  1.24739506e+00  8.20332216e-01\n",
            "  9.08784810e-01 -2.94526485e-01 -2.26508156e+00  6.95472849e-01\n",
            " -2.25703488e-01  2.34058801e+00 -6.15464173e-01  4.59554128e-01\n",
            "  2.11898431e+00  2.95146661e-01 -1.83339583e+00 -7.76796028e-01\n",
            " -1.99460398e-01  2.87303281e-01  2.18798182e-01  6.09943516e-02\n",
            "  2.59058501e+00  4.16846941e-01  9.27232664e-02 -8.10921198e-01\n",
            "  1.30587702e+00 -1.61084442e-02 -3.60943875e-01 -1.68499684e-01\n",
            " -1.31301684e+00  3.14411903e-01 -7.19264057e-01 -7.95676885e-01\n",
            " -3.24647113e-01 -5.30109114e-01  1.77463958e-01 -1.74978897e+00\n",
            " -3.06374210e-01 -1.16673996e+00  5.22648037e-01 -4.89272961e-01\n",
            "  9.52721926e-01  8.45822639e-01  1.38541585e+00 -7.12400300e-01\n",
            " -5.87749960e-02  9.18040915e-01 -7.98378163e-03 -1.17443639e+00\n",
            " -1.48364930e-01 -7.35973019e-02 -7.59406621e-01  1.59293554e+00\n",
            " -1.86078342e+00 -6.84606772e-01  4.92190053e-01  1.68408430e+00\n",
            "  7.98994685e-02  5.03284964e-02  1.87541285e+00 -4.89755832e-01\n",
            "  1.70805296e+00 -1.39346487e+00  9.91284912e-02  8.53058799e-01\n",
            " -1.15518500e-01  2.34516809e-01 -4.54352233e-01 -2.64118067e-01\n",
            " -1.23955255e+00  4.23404267e-01 -4.59562973e-01 -2.35056571e+00\n",
            "  7.17828865e-01  5.05685138e-01  2.41220974e-01  4.11520407e-02\n",
            " -3.03001536e-01  3.04219352e-01 -1.46416555e+00 -1.35810444e+00\n",
            " -4.06342191e-01 -1.88769932e+00  4.52217433e-01  4.15011437e-01\n",
            " -6.63132291e-01 -1.95676719e+00 -2.13889266e-01  7.58622958e-01\n",
            "  1.49939548e+00  6.74138780e-01 -1.54174842e+00 -1.07946818e-01\n",
            "  2.16501649e-01  1.63512871e+00 -1.99786239e+00 -8.48292673e-01\n",
            "  8.73346392e-01  5.92034886e-02  7.80933825e-01 -1.06462777e+00\n",
            "  2.66783763e-01  8.68929341e-01  1.04840409e+00 -1.07223017e-02\n",
            " -2.06179687e+00 -6.88227574e-01  1.83690231e+00 -1.18311338e+00\n",
            "  1.38070932e+00  6.13047098e-01 -1.35713326e-01  6.29233932e-02\n",
            "  9.48406070e-02  1.03189916e+00 -5.82100045e-01 -2.12797141e+00\n",
            "  4.10818744e-01  6.29359873e-01  2.13444182e+00 -1.14815898e-01\n",
            " -1.27212895e+00  1.53083332e+00 -1.33621506e+00  1.10956333e+00\n",
            "  6.05436418e-03 -1.28161643e+00  1.25954062e+00 -8.58490473e-02\n",
            "  3.51258673e-01 -6.79953618e-01 -1.75429546e+00 -3.48877559e-01\n",
            "  1.59791866e+00 -5.38561572e-01 -7.71257930e-01  6.23599382e-02\n",
            " -7.80006766e-01 -1.08538903e-01 -1.02525520e+00 -4.42938742e-01\n",
            " -9.32142231e-01 -7.36314312e-01  7.22099670e-01  5.31724894e-01\n",
            "  1.05701658e+00 -1.45741109e+00  7.95422531e-01  4.65366248e-01\n",
            " -3.52997139e-01 -1.44383703e+00 -1.03656817e+00  4.30564297e-01\n",
            " -2.79231909e+00  1.29233204e-01 -2.36245655e+00  1.13709324e+00\n",
            " -1.06582159e+00 -4.33837289e-01 -3.64115337e-01 -1.32084825e+00\n",
            "  1.77883577e-01 -1.31370103e+00 -5.04973160e-01  1.12517002e+00\n",
            " -4.28759714e-03 -1.43093349e-01 -3.96619349e-01 -7.95187838e-01\n",
            " -1.15059513e+00 -7.27160470e-01 -4.99429748e-01  1.55250221e-01\n",
            "  2.06922806e+00  6.34079017e-01 -7.33897858e-01 -2.95693667e-01\n",
            "  3.48885134e-01 -7.24724124e-01  1.30847822e+00 -1.70087587e+00\n",
            " -1.42548568e-01 -1.80447543e+00  1.30495002e+00  3.21665854e-01\n",
            " -3.89069347e-01 -1.15645795e-01 -1.47086313e+00  3.11231933e-01\n",
            "  1.79924843e+00  1.45159791e+00 -1.14928296e+00  2.33411361e+00\n",
            "  4.85639278e-01  6.94384191e-01  4.47179154e-03 -7.45965535e-01\n",
            "  1.03822694e+00 -4.40978498e-01 -8.10535632e-01  1.82476481e-01\n",
            " -8.58861733e-01 -1.10881962e+00  1.25760265e+00  6.08978751e-01\n",
            "  1.49556611e-01 -1.32473351e+00  6.26300732e-01 -1.60233196e+00\n",
            " -1.00995733e+00  8.56153425e-01 -2.18856596e+00 -2.97073117e-02\n",
            "  8.55598817e-01 -2.69197275e-01 -1.21678048e+00 -5.78271382e-02\n",
            " -1.28839345e-01 -3.05499644e-01  6.03009712e-01 -1.68130122e+00\n",
            "  2.47439905e-01  1.15354164e+00  8.83975257e-01  1.91364479e-02\n",
            " -6.80278735e-01  2.07032117e+00 -3.22689683e-01  2.83428539e-01\n",
            " -8.31996069e-01  1.02618604e+00  5.13498669e-01  1.73549596e-04\n",
            " -8.06479743e-01  1.60331741e-01  9.14747920e-01 -1.77094187e+00\n",
            "  6.37894457e-01  1.43787947e+00 -8.16838079e-02 -9.98353135e-01\n",
            " -7.16956931e-01 -6.80570226e-01 -2.56016896e-01 -1.01779143e+00\n",
            "  8.34233442e-01  8.18732350e-01  5.76702501e-01 -4.39691610e-01\n",
            " -1.94447475e-01  1.47755941e-01 -8.97724803e-01  9.24098507e-01\n",
            "  1.35104532e+00  6.54621210e-01  2.23390717e-01 -6.04951548e-02\n",
            " -4.39180550e-01  1.30155805e+00  7.98395496e-01 -4.09934280e-02\n",
            "  1.06460064e+00 -5.67554769e-01 -8.71605430e-01  5.39135234e-01\n",
            "  8.64997052e-01  2.23695017e+00  2.41738178e-01  1.11983166e+00\n",
            "  1.08153343e+00 -7.28736374e-01 -7.06453720e-01  6.40058264e-01\n",
            " -7.58994122e-01  6.66111007e-01 -2.36018977e-01 -1.22011731e+00\n",
            " -1.70419382e+00  1.94798679e+00  1.54552592e-01 -1.62612141e-01\n",
            "  1.32361313e-01 -3.93521331e-02  1.11397811e+00 -1.52095630e-01\n",
            " -6.69343260e-01 -1.96896512e+00  7.39994797e-02  5.41249878e-01\n",
            "  4.94985987e-01 -1.03504194e+00  3.81397489e-01  4.23621322e-02\n",
            "  3.06697915e-01  7.44439510e-01 -8.65749744e-01  2.13444619e+00\n",
            "  2.10964016e+00  1.21475003e+00 -2.02975215e-01 -1.15183415e+00\n",
            "  1.09478575e+00 -4.98041743e-01  3.67297248e-01  2.73767509e-01\n",
            "  1.41716042e+00  2.81777339e+00 -1.47017624e-01  8.21786866e-01\n",
            "  2.87349390e-01 -1.33361287e+00  1.34285951e+00 -5.56949766e-01\n",
            " -5.67446493e-01 -1.15587711e+00  3.44592816e-01 -1.47024289e+00\n",
            " -8.89102766e-01 -1.27374578e-02  6.87597837e-02 -1.28060073e+00\n",
            " -5.29928014e-01 -4.01292621e-01  2.82957203e-01  5.70718388e-01\n",
            " -3.63731400e-02 -1.17208267e+00  5.67947226e-01  9.85325761e-02\n",
            "  3.81829987e-01  7.90224403e-01  5.02593052e-01 -2.04172050e+00\n",
            " -1.56902166e+00 -7.07890405e-01  1.04352717e+00 -1.90445171e+00\n",
            " -9.57347691e-01  4.89916286e-01  1.53902911e+00  7.09034404e-03\n",
            "  1.04027850e+00 -1.07667484e+00  1.45660367e+00  1.22511708e-01\n",
            " -4.26918696e-01  7.10316386e-01 -8.19779534e-02 -2.68193569e-01\n",
            "  1.42147563e-01  1.77741078e+00 -8.07687448e-01  3.53481549e-01\n",
            " -1.00155682e-01  1.44142953e+00 -8.49872459e-01 -2.22933440e-02\n",
            " -3.60870531e-01  6.02414532e-01 -4.09049320e-01  1.24488642e+00\n",
            "  6.29423132e-01 -2.76755915e-01 -1.03881090e+00 -5.02158464e-01\n",
            " -4.09873434e-01  1.69487197e+00 -1.60656614e+00 -1.25712166e-01\n",
            "  7.19081944e-01  3.97753348e-01  1.02110113e+00  4.01160435e-01\n",
            "  5.75967499e-01  1.65778632e+00 -1.28120661e+00 -1.84148843e-01\n",
            "  7.35369786e-01 -7.24936916e-01 -1.25874386e+00  8.06012563e-01\n",
            "  1.17193609e+00  1.27921669e-01  9.30550548e-01  1.40948101e+00\n",
            " -2.22497527e-01 -1.67111127e-02  2.35672980e-02  3.55448912e-01\n",
            "  3.25759417e-02  1.32559127e+00 -2.02750204e-01  9.19057779e-01\n",
            "  3.58949297e-01  3.76846149e-01  7.03908573e-01  1.33473983e+00\n",
            " -3.47058179e-01  6.19711784e-01 -4.98553231e-01  9.82494492e-02\n",
            " -1.39066583e+00 -1.34068205e+00 -2.30029747e+00  4.36847765e-01\n",
            "  6.28452732e-02 -1.20594366e-01  2.92620262e-01  1.98756876e+00\n",
            " -1.95693410e-01 -9.73746746e-01 -7.01006320e-01 -2.07942869e+00\n",
            "  3.84180404e-01  2.17214783e-01 -1.46432662e-01  3.82800656e-01\n",
            "  5.91175973e-01 -1.88867996e-01 -5.74882719e-01  1.29596120e+00\n",
            " -3.89541696e-01  1.45321645e-01 -1.45594493e+00 -3.09748447e-01\n",
            " -1.49090702e+00  1.05928622e+00  4.61140869e-03  2.68944629e-01\n",
            " -3.13820071e-01 -1.73538788e-01 -1.30572381e+00  1.36718597e+00\n",
            " -7.93611478e-01 -8.64911037e-01 -1.50134481e+00 -5.04484735e-01\n",
            "  1.97944317e+00 -3.85166434e-01  6.66068202e-01  1.82600492e-01\n",
            "  1.46722717e+00 -4.89597208e-01 -4.41060623e-01 -1.09032696e+00\n",
            "  4.75893028e-01 -4.45025324e-01 -1.16183513e+00 -6.47799946e-01\n",
            " -4.14318448e-02  9.99219104e-01  1.35751892e+00 -2.09159584e-05\n",
            "  1.80150016e-01  5.97058806e-01 -1.12739632e+00  1.24506731e+00\n",
            " -3.18965255e-01  6.74298154e-01  9.23661694e-01 -2.50711486e-01\n",
            " -2.06493528e+00 -5.28449995e-01  1.39037515e-01  1.50882586e+00\n",
            "  5.63811247e-01  4.04998928e-01  1.09304115e+00  1.77295909e+00\n",
            "  1.33007148e+00  2.27180921e-01  5.34435048e-02 -1.27126066e+00\n",
            " -1.05252278e+00 -5.40502295e-01  1.56027146e+00 -1.85732196e+00\n",
            " -7.84485956e-01  1.06615655e+00 -1.60354272e+00 -5.35480467e-02\n",
            " -9.82114324e-01  5.18003133e-01 -9.35607676e-01  3.32042868e-01\n",
            "  2.71038385e-01  4.65911670e-01  1.02423453e+00  4.64599317e-01\n",
            " -1.47251657e+00 -7.55083021e-01  9.96655909e-01 -3.51887237e-01\n",
            "  1.99950535e-01  1.73804007e+00 -1.10708121e+00 -5.71427963e-01\n",
            " -3.37382022e-01 -2.33070833e-01  1.45489681e+00 -1.00718981e+00\n",
            "  6.81809567e-01  5.68390900e-01 -1.35694564e+00  1.01332868e+00\n",
            "  6.24812458e-01 -6.27976852e-02  5.64180611e-01 -2.99447906e-01\n",
            "  7.85591439e-01  8.91028391e-02  2.89120008e-01 -5.45923529e-02\n",
            "  4.23646021e-01 -1.84318186e+00 -1.35014970e+00 -9.32788212e-01\n",
            "  1.20545152e+00 -3.54108237e-01 -2.49439751e-01  5.68701445e-01\n",
            "  4.54329918e-01  6.51603278e-01  1.34608311e+00  1.98129927e+00\n",
            " -3.63491410e-01 -5.91038567e-01  1.31104836e-01 -5.19400578e-01\n",
            "  1.93074387e+00  2.91383994e-01 -1.33613104e+00 -1.70070365e-01\n",
            "  6.39899329e-01  5.46971261e-01 -5.44979933e-01  2.68935435e-01\n",
            " -6.27506782e-01 -2.11218231e+00  1.27414844e-01  5.08146184e-01\n",
            " -1.15328987e-01 -7.17697712e-01 -4.26786408e-01 -8.53150854e-01\n",
            "  8.40861048e-01 -6.93861376e-01 -7.26900581e-01  1.00642639e+00\n",
            " -5.98293550e-01 -8.66893939e-01  2.07468916e-01  1.91242108e+00\n",
            " -5.45942683e-01 -4.74106937e-01  1.11798337e+00 -6.73909642e-01\n",
            "  7.43827876e-01  1.00805518e+00 -7.92927637e-01 -1.73517053e+00\n",
            "  3.08069950e+00  1.62037040e+00 -1.38128179e+00 -9.87583442e-01\n",
            " -6.24753785e-02 -1.42157461e+00 -1.21129233e+00 -8.62576080e-01\n",
            "  1.07090910e+00 -1.61646521e+00 -7.43544508e-01  6.61929563e-01\n",
            "  1.66973265e+00 -9.99697463e-01 -6.78962732e-01  7.50639509e-01\n",
            " -1.56374903e+00  1.72253194e+00 -1.51151326e+00 -4.59040661e-01\n",
            " -7.46766293e-01  1.12208864e+00  1.47351309e+00  5.12269941e-02\n",
            " -1.33658329e+00  4.10699488e-01  7.46211662e-01  1.56431106e+00\n",
            " -1.81724507e-01  2.13363977e+00 -4.25745282e-01  1.98411619e-02\n",
            "  1.02770469e+00 -1.08464896e+00 -1.17085410e+00  6.34945158e-01\n",
            " -6.41458395e-01  1.41022724e+00 -8.24259485e-01  1.62401966e+00\n",
            " -6.84667171e-01  1.59853761e+00  7.17579817e-01 -7.08919044e-01\n",
            " -6.45481929e-02  1.32757697e+00 -1.69398424e+00  3.64790653e-01\n",
            "  1.06409166e-01  3.07945916e-01 -7.67921793e-01  1.97381937e-01\n",
            " -7.49938341e-01 -1.75040610e-01  2.75543556e-01 -6.13209664e-01\n",
            "  1.37944467e+00 -2.08018359e-01  6.34730421e-01  7.36605051e-01\n",
            "  1.55606819e+00  2.10550950e+00  1.31171190e+00 -9.01071078e-01\n",
            " -2.18098342e-02  1.40030572e+00 -6.15299172e-01  2.11564227e+00\n",
            "  2.15116213e-01 -1.60758394e-01 -1.93822772e+00  1.48817726e+00\n",
            "  1.74344497e+00 -1.56098965e+00  1.97794536e+00 -2.99283506e-03\n",
            " -1.06529951e-01  9.10976379e-01  3.79182428e-01 -4.80595634e-01\n",
            "  1.65073436e+00 -1.07316494e+00  1.86103163e-01  6.56704925e-01\n",
            "  5.85505082e-01  3.10998572e-01 -1.44681502e-01  1.73057330e+00\n",
            "  1.38953018e+00  6.54353111e-01 -1.41228850e+00 -1.39215405e+00\n",
            "  1.75582665e-01 -1.07139452e+00 -6.08492428e-01  2.68175283e-01\n",
            " -5.70744932e-01 -1.50229255e+00  1.16535739e-01  4.22927428e-01\n",
            "  5.23119938e-01  9.91098203e-01 -1.90228777e-01  4.18074228e-01\n",
            "  8.30977804e-01 -4.17294945e-01  7.15049570e-01 -2.80881765e-01\n",
            "  2.23814953e-01  1.00879645e+00  3.86510626e-02  2.40686889e+00\n",
            "  1.16007725e-01 -1.92839634e-01  6.08286038e-01  1.34731183e-01\n",
            " -1.61336356e+00  6.01371021e-02  4.52331885e-01  6.41295189e-01\n",
            " -3.81174269e-01 -5.07673255e-02  2.37651639e+00 -8.19898517e-01\n",
            "  1.14283477e-01 -6.73769188e-02 -1.07043524e-01 -1.23618010e+00\n",
            "  4.75144253e-01  3.78778166e-01 -6.60581481e-01  1.13205882e+00\n",
            "  6.24882174e-02 -4.69150684e-02  6.47103266e-01  1.67213001e-01\n",
            " -6.38063404e-01 -1.80990970e+00  1.69065799e+00  5.11163844e-01\n",
            "  6.48996308e-01  1.02494239e+00 -1.09480214e+00 -1.42806045e+00\n",
            "  3.55196568e-01 -4.26086471e-01  3.10859059e-01 -1.56546472e+00\n",
            "  9.13898862e-02  8.25786396e-01 -4.87104980e-01 -6.05257260e-01\n",
            " -2.16484040e+00 -3.95972712e-01  1.12106825e+00 -1.02042511e-01\n",
            "  1.14921315e+00 -3.06260079e-01 -3.46570522e-01 -4.74711831e-01\n",
            " -2.78380563e-01 -2.60730942e-01  4.12437706e-01  9.48795107e-01\n",
            "  1.64416551e+00 -1.46568734e+00  4.23430828e-01  1.37418217e+00\n",
            " -1.40722399e+00  1.66069637e+00  6.93610633e-01 -2.23070913e-01\n",
            " -1.34688008e+00  2.08925679e+00  4.41705316e-01  8.17489772e-01\n",
            " -5.87984077e-01 -2.22379555e-01  1.16624576e+00 -1.94918983e-01\n",
            " -1.58482289e+00 -1.67610112e+00  1.41247635e+00  1.38418309e-01\n",
            " -1.10936504e+00  2.32861171e+00  4.42109411e-01 -3.67104413e-01\n",
            "  1.03640623e+00  1.40460158e+00  2.12050984e-01  7.62893581e-01\n",
            "  9.44945192e-01  8.72094500e-01 -6.46460294e-01 -3.31518913e-01\n",
            "  2.58208697e-01 -5.47729756e-01 -1.47857266e+00  5.27033146e-01\n",
            "  1.32707070e+00 -4.40588098e-01  5.25879319e-01  2.43313680e-01\n",
            "  3.37062494e-01  7.02703186e-01  4.68298459e-01 -7.59498841e-01\n",
            "  2.45099729e-01  1.21490112e+00 -1.72938668e+00  3.28365551e-01\n",
            "  2.72586604e-01  1.13276455e-01  7.58619114e-03  1.70159458e+00\n",
            "  1.24646118e-01 -5.81985652e-01 -2.33003292e-01 -3.06163716e-01\n",
            "  4.83526957e-01 -7.02665447e-01 -7.30837051e-01  1.85000823e+00\n",
            " -1.58229063e-01 -3.07638231e-01 -5.86471855e-01  2.22879535e+00\n",
            "  9.92063270e-02 -9.28425746e-01 -1.36860449e+00  6.70032016e-01\n",
            "  1.10471884e+00 -2.06001434e+00  6.68741559e-01  1.09774048e+00\n",
            "  1.11110070e+00  4.64025958e-01  7.48824184e-01  6.20150929e-01\n",
            "  8.06887658e-01  1.60976598e+00  6.91997441e-01 -8.15945823e-01\n",
            " -4.88166736e-01  3.49206532e-01 -1.33627014e+00 -3.27001848e-01\n",
            " -1.45812228e+00 -3.38362812e-01 -1.00978316e+00  4.50031962e-01\n",
            "  2.17207159e-01 -1.18586895e+00  1.03129555e-02  2.84564109e-02\n",
            "  9.82545013e-01 -1.99035075e-02 -1.01178364e+00 -1.33063764e+00]\n"
          ]
        }
      ]
    },
    {
      "cell_type": "code",
      "source": [
        "# HISTOGRAMA\n",
        "plt.hist(dados, bins = 20)\n",
        "plt.title('Dados')"
      ],
      "metadata": {
        "colab": {
          "base_uri": "https://localhost:8080/",
          "height": 469
        },
        "id": "Fc3iz9Urb4qD",
        "outputId": "06f360ca-02da-48d4-eff7-f8a1c86d117b"
      },
      "execution_count": 34,
      "outputs": [
        {
          "output_type": "execute_result",
          "data": {
            "text/plain": [
              "Text(0.5, 1.0, 'Dados')"
            ]
          },
          "metadata": {},
          "execution_count": 34
        },
        {
          "output_type": "display_data",
          "data": {
            "text/plain": [
              "<Figure size 640x480 with 1 Axes>"
            ],
            "image/png": "[encoded data removed]"
          },
          "metadata": {}
        }
      ]
    },
    {
      "cell_type": "code",
      "source": [
        "fig,ax = plt.subplots()\n",
        "stats.probplot(dados, fit = True, plot=ax)\n",
        "plt.show()"
      ],
      "metadata": {
        "colab": {
          "base_uri": "https://localhost:8080/",
          "height": 472
        },
        "id": "JiwllRSKb74V",
        "outputId": "fc6f819e-9ae2-4cdc-ec98-a99d9216f864"
      },
      "execution_count": 35,
      "outputs": [
        {
          "output_type": "display_data",
          "data": {
            "text/plain": [
              "<Figure size 640x480 with 1 Axes>"
            ],
            "image/png": "[encoded data removed]"
          },
          "metadata": {}
        }
      ]
    },
    {
      "cell_type": "code",
      "source": [
        "stats.shapiro(dados) # Execução do teste de Shapiro"
      ],
      "metadata": {
        "colab": {
          "base_uri": "https://localhost:8080/"
        },
        "id": "bPkUNmz5cBG3",
        "outputId": "2f82148d-8137-425f-8bef-d4d64afd1916"
      },
      "execution_count": 36,
      "outputs": [
        {
          "output_type": "execute_result",
          "data": {
            "text/plain": [
              "ShapiroResult(statistic=0.9975739121437073, pvalue=0.14609172940254211)"
            ]
          },
          "metadata": {},
          "execution_count": 36
        }
      ]
    },
    {
      "cell_type": "code",
      "source": [
        "# Simulação distribuiçõe assimetricas\n",
        "dados2 = skewnorm.rvs(5, size = 1000) # assimetrica positiva\n",
        "stats.describe(dados2)"
      ],
      "metadata": {
        "colab": {
          "base_uri": "https://localhost:8080/"
        },
        "id": "25aIDZU4cEEa",
        "outputId": "37c47af7-663c-41f4-e297-d96483dff997"
      },
      "execution_count": 37,
      "outputs": [
        {
          "output_type": "execute_result",
          "data": {
            "text/plain": [
              "DescribeResult(nobs=1000, minmax=(-0.3698857329213739, 2.9545178847388303), mean=0.7819421367000096, variance=0.39140380921843165, skewness=0.8070943184546933, kurtosis=0.44814005999125417)"
            ]
          },
          "metadata": {},
          "execution_count": 37
        }
      ]
    },
    {
      "cell_type": "code",
      "source": [
        "# Histograma\n",
        "plt.hist(dados2, bins = 20)\n",
        "plt.title('Dados')"
      ],
      "metadata": {
        "colab": {
          "base_uri": "https://localhost:8080/",
          "height": 469
        },
        "id": "0rUtAMGhcHt1",
        "outputId": "e9902e1e-1db5-46dc-a13e-1001b7faa35a"
      },
      "execution_count": 38,
      "outputs": [
        {
          "output_type": "execute_result",
          "data": {
            "text/plain": [
              "Text(0.5, 1.0, 'Dados')"
            ]
          },
          "metadata": {},
          "execution_count": 38
        },
        {
          "output_type": "display_data",
          "data": {
            "text/plain": [
              "<Figure size 640x480 with 1 Axes>"
            ],
            "image/png": "[encoded data removed]"
          },
          "metadata": {}
        }
      ]
    },
    {
      "cell_type": "code",
      "source": [
        "# Geração de grafico para verificar se a distribuição é normal\n",
        "fig, ax = plt.subplots()\n",
        "stats.probplot(dados2, fit = True, plot = ax)\n",
        "plt.show() # \"sorriso\" p cima assimetria posisitva"
      ],
      "metadata": {
        "colab": {
          "base_uri": "https://localhost:8080/",
          "height": 472
        },
        "id": "LFQyJGAwcKg6",
        "outputId": "ee2d5600-5533-4d23-ee9d-e0d16df15092"
      },
      "execution_count": 39,
      "outputs": [
        {
          "output_type": "display_data",
          "data": {
            "text/plain": [
              "<Figure size 640x480 with 1 Axes>"
            ],
            "image/png": "[encoded data removed]"
          },
          "metadata": {}
        }
      ]
    },
    {
      "cell_type": "code",
      "source": [
        "stats.shapiro(dados2)"
      ],
      "metadata": {
        "colab": {
          "base_uri": "https://localhost:8080/"
        },
        "id": "PkdQX5z8cTSa",
        "outputId": "a913636e-7b20-49ac-e2b2-e2d17b2956b6"
      },
      "execution_count": 40,
      "outputs": [
        {
          "output_type": "execute_result",
          "data": {
            "text/plain": [
              "ShapiroResult(statistic=0.9556121826171875, pvalue=7.821922442697386e-17)"
            ]
          },
          "metadata": {},
          "execution_count": 40
        }
      ]
    },
    {
      "cell_type": "code",
      "source": [
        "# Assimetria negativa\n",
        "dados3 = skewnorm.rvs(-5, size = 1000) #skewnorm - negativa\n",
        "stats.describe(dados3)"
      ],
      "metadata": {
        "colab": {
          "base_uri": "https://localhost:8080/"
        },
        "id": "dxPYjh7JcV_C",
        "outputId": "c454b581-62c2-4962-e8e3-ec6f70435874"
      },
      "execution_count": 41,
      "outputs": [
        {
          "output_type": "execute_result",
          "data": {
            "text/plain": [
              "DescribeResult(nobs=1000, minmax=(-3.719810764507136, 0.2851074204173555), mean=-0.7931227167928722, variance=0.45043269342462844, skewness=-0.9630605736178811, kurtosis=0.7987624453979811)"
            ]
          },
          "metadata": {},
          "execution_count": 41
        }
      ]
    },
    {
      "cell_type": "code",
      "source": [
        "plt.hist(dados3, bins = 20)\n",
        "plt.title('Dados')"
      ],
      "metadata": {
        "colab": {
          "base_uri": "https://localhost:8080/",
          "height": 469
        },
        "id": "1SCP-xYocY1b",
        "outputId": "40205498-8ddd-4986-ee76-3400eb401cd6"
      },
      "execution_count": 42,
      "outputs": [
        {
          "output_type": "execute_result",
          "data": {
            "text/plain": [
              "Text(0.5, 1.0, 'Dados')"
            ]
          },
          "metadata": {},
          "execution_count": 42
        },
        {
          "output_type": "display_data",
          "data": {
            "text/plain": [
              "<Figure size 640x480 with 1 Axes>"
            ],
            "image/png": "[encoded data removed]"
          },
          "metadata": {}
        }
      ]
    },
    {
      "cell_type": "code",
      "source": [
        "fig, ax = plt.subplots()\n",
        "stats.probplot(dados3, fit = True, plot = ax)\n",
        "plt.show() # Assimetria negativa"
      ],
      "metadata": {
        "colab": {
          "base_uri": "https://localhost:8080/",
          "height": 472
        },
        "id": "QFoLe7TDcb1b",
        "outputId": "f549c89a-c5d1-45ae-fc8b-441355c8686e"
      },
      "execution_count": 43,
      "outputs": [
        {
          "output_type": "display_data",
          "data": {
            "text/plain": [
              "<Figure size 640x480 with 1 Axes>"
            ],
            "image/png": "[encoded data removed]"
          },
          "metadata": {}
        }
      ]
    },
    {
      "cell_type": "code",
      "source": [
        "stats.shapiro(dados3)"
      ],
      "metadata": {
        "colab": {
          "base_uri": "https://localhost:8080/"
        },
        "id": "fFHBu_elcjHG",
        "outputId": "ef521df1-93a0-4a1f-f7c3-fc1e98bf72f4"
      },
      "execution_count": 44,
      "outputs": [
        {
          "output_type": "execute_result",
          "data": {
            "text/plain": [
              "ShapiroResult(statistic=0.9381975531578064, pvalue=5.889874281963624e-20)"
            ]
          },
          "metadata": {},
          "execution_count": 44
        }
      ]
    }
  ]
}