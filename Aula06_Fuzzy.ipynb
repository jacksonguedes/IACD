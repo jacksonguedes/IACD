{
  "nbformat": 4,
  "nbformat_minor": 0,
  "metadata": {
    "colab": {
      "provenance": [],
      "authorship_tag": "ABX9TyOxdpglJ3w3iac52ex4mFSE",
      "include_colab_link": true
    },
    "kernelspec": {
      "name": "python3",
      "display_name": "Python 3"
    },
    "language_info": {
      "name": "python"
    }
  },
  "cells": [
    {
      "cell_type": "markdown",
      "metadata": {
        "id": "view-in-github",
        "colab_type": "text"
      },
      "source": [
        "<a href=\"https://colab.research.google.com/github/jacksonguedes/IACD/blob/main/Aula06_Fuzzy.ipynb\" target=\"_parent\"><img src=\"https://colab.research.google.com/assets/colab-badge.svg\" alt=\"Open In Colab\"/></a>"
      ]
    },
    {
      "cell_type": "code",
      "source": [
        "pip install scikit-fuzzy"
      ],
      "metadata": {
        "colab": {
          "base_uri": "https://localhost:8080/"
        },
        "id": "DpBAENJqOJJQ",
        "outputId": "905c2439-5364-4e38-b5e4-d356b02451f5"
      },
      "execution_count": 4,
      "outputs": [
        {
          "output_type": "stream",
          "name": "stdout",
          "text": [
            "Collecting scikit-fuzzy\n",
            "  Downloading scikit-fuzzy-0.4.2.tar.gz (993 kB)\n",
            "\u001b[?25l     \u001b[90m━━━━━━━━━━━━━━━━━━━━━━━━━━━━━━━━━━━━━━━━\u001b[0m \u001b[32m0.0/994.0 kB\u001b[0m \u001b[31m?\u001b[0m eta \u001b[36m-:--:--\u001b[0m\r\u001b[2K     \u001b[91m━━━━━━\u001b[0m\u001b[90m╺\u001b[0m\u001b[90m━━━━━━━━━━━━━━━━━━━━━━━━━━━━━━━━━\u001b[0m \u001b[32m153.6/994.0 kB\u001b[0m \u001b[31m4.6 MB/s\u001b[0m eta \u001b[36m0:00:01\u001b[0m\r\u001b[2K     \u001b[91m━━━━━━━━━━━━━━━━━━━━━\u001b[0m\u001b[90m╺\u001b[0m\u001b[90m━━━━━━━━━━━━━━━━━━\u001b[0m \u001b[32m532.5/994.0 kB\u001b[0m \u001b[31m7.7 MB/s\u001b[0m eta \u001b[36m0:00:01\u001b[0m\r\u001b[2K     \u001b[91m━━━━━━━━━━━━━━━━━━━━━━━━━━━━━━━━━━━━━━━\u001b[0m\u001b[91m╸\u001b[0m \u001b[32m993.3/994.0 kB\u001b[0m \u001b[31m9.6 MB/s\u001b[0m eta \u001b[36m0:00:01\u001b[0m\r\u001b[2K     \u001b[90m━━━━━━━━━━━━━━━━━━━━━━━━━━━━━━━━━━━━━━━━\u001b[0m \u001b[32m994.0/994.0 kB\u001b[0m \u001b[31m8.7 MB/s\u001b[0m eta \u001b[36m0:00:00\u001b[0m\n",
            "\u001b[?25h  Preparing metadata (setup.py) ... \u001b[?25l\u001b[?25hdone\n",
            "Requirement already satisfied: numpy>=1.6.0 in /usr/local/lib/python3.10/dist-packages (from scikit-fuzzy) (1.23.5)\n",
            "Requirement already satisfied: scipy>=0.9.0 in /usr/local/lib/python3.10/dist-packages (from scikit-fuzzy) (1.11.3)\n",
            "Requirement already satisfied: networkx>=1.9.0 in /usr/local/lib/python3.10/dist-packages (from scikit-fuzzy) (3.1)\n",
            "Building wheels for collected packages: scikit-fuzzy\n",
            "  Building wheel for scikit-fuzzy (setup.py) ... \u001b[?25l\u001b[?25hdone\n",
            "  Created wheel for scikit-fuzzy: filename=scikit_fuzzy-0.4.2-py3-none-any.whl size=894079 sha256=04829d7211e1e0e3983f1dee3675674345cbf14f85a38e2aeecc4542bb7966fc\n",
            "  Stored in directory: /root/.cache/pip/wheels/4f/86/1b/dfd97134a2c8313e519bcebd95d3fedc7be7944db022094bc8\n",
            "Successfully built scikit-fuzzy\n",
            "Installing collected packages: scikit-fuzzy\n",
            "Successfully installed scikit-fuzzy-0.4.2\n"
          ]
        }
      ]
    },
    {
      "cell_type": "code",
      "execution_count": 5,
      "metadata": {
        "id": "I9muTaMANNTu"
      },
      "outputs": [],
      "source": [
        "import numpy as np\n",
        "import skfuzzy as fuzz # pip install scikit-fuzzy\n",
        "import matplotlib.pyplot as plt"
      ]
    },
    {
      "cell_type": "code",
      "source": [
        "# Gerar variaveis dfe universo\n",
        "# * Qualidade e servico em faixas subjetivas [0,10]\n",
        "# * Gorjetas  tem um intervalo de [0, 25] %\n",
        "x_qual = np.arange(0, 11, 1)\n",
        "x_serv = np.arange(0, 11, 1)\n",
        "x_tip  = np.arange(0, 26, 1)"
      ],
      "metadata": {
        "id": "7lLZA8EZNbTm"
      },
      "execution_count": 6,
      "outputs": []
    },
    {
      "cell_type": "code",
      "source": [
        "# Gerar funções de associação difusas\n",
        "qual_lo = fuzz.trimf(x_qual, [0, 0, 5])\n",
        "qual_md = fuzz.trimf(x_qual, [0, 5, 10])\n",
        "qual_hi = fuzz.trimf(x_qual, [5, 10, 10])\n",
        "serv_lo = fuzz.trimf(x_serv, [0, 0, 5])\n",
        "serv_md = fuzz.trimf(x_serv, [0, 5, 10])\n",
        "serv_hi = fuzz.trimf(x_serv, [5, 10, 10])\n",
        "tip_lo  = fuzz.trimf(x_tip,  [0, 0, 13])\n",
        "tip_md  = fuzz.trimf(x_tip,  [0, 13, 25])\n",
        "tip_hi  = fuzz.trimf(x_tip,  [13, 25, 25])"
      ],
      "metadata": {
        "id": "j_ujWlQDOSy2"
      },
      "execution_count": 7,
      "outputs": []
    },
    {
      "cell_type": "code",
      "source": [
        "# Visualize esses universos e funcoes de associação\n",
        "fig, (ax0, ax1, ax2) = plt.subplots(nrows=3,figsize=(8,9))"
      ],
      "metadata": {
        "colab": {
          "base_uri": "https://localhost:8080/",
          "height": 759
        },
        "id": "wZAnMphIOYqe",
        "outputId": "348c44f3-c6a2-40ca-a1a4-46c665fe15a2"
      },
      "execution_count": 8,
      "outputs": [
        {
          "output_type": "display_data",
          "data": {
            "text/plain": [
              "<Figure size 800x900 with 3 Axes>"
            ],
            "image/png": "[encoded data removed]"
          },
          "metadata": {}
        }
      ]
    },
    {
      "cell_type": "code",
      "source": [
        "ax0.plot(x_qual, qual_lo, 'b', linewidth=1.5,label='Ruim')\n",
        "ax0.plot(x_qual, qual_md, 'g', linewidth=1.5,label='Razoável')\n",
        "ax0.plot(x_qual, qual_hi, 'r', linewidth=1.5,label='Excelente')\n",
        "ax0.set_title('Qualidade da comida')\n",
        "ax0.legend()"
      ],
      "metadata": {
        "colab": {
          "base_uri": "https://localhost:8080/"
        },
        "id": "6M5tUnWbOdeO",
        "outputId": "cf2fa912-6046-479a-da8e-47387f3163e6"
      },
      "execution_count": 9,
      "outputs": [
        {
          "output_type": "execute_result",
          "data": {
            "text/plain": [
              "<matplotlib.legend.Legend at 0x7e505ce84cd0>"
            ]
          },
          "metadata": {},
          "execution_count": 9
        }
      ]
    },
    {
      "cell_type": "code",
      "source": [
        "ax1.plot(x_serv, serv_lo, 'b', linewidth=1.5,label='Ruim')\n",
        "ax1.plot(x_serv, serv_md, 'g', linewidth=1.5,label='Razoável')\n",
        "ax1.plot(x_serv, serv_hi, 'r', linewidth=1.5,label='Excelente')\n",
        "ax1.set_title('Qualidade do serviço')\n",
        "ax1.legend()"
      ],
      "metadata": {
        "colab": {
          "base_uri": "https://localhost:8080/"
        },
        "id": "h9ZJTsx3OhAk",
        "outputId": "0e7662af-8027-4cf1-fb09-fb31a3dea6ef"
      },
      "execution_count": 10,
      "outputs": [
        {
          "output_type": "execute_result",
          "data": {
            "text/plain": [
              "<matplotlib.legend.Legend at 0x7e505a80b730>"
            ]
          },
          "metadata": {},
          "execution_count": 10
        }
      ]
    },
    {
      "cell_type": "code",
      "source": [
        "ax2.plot(x_tip, tip_lo, 'b', linewidth=1.5,label='Baixo')\n",
        "ax2.plot(x_tip, tip_md, 'g', linewidth=1.5,label='Médio')\n",
        "ax2.plot(x_tip, tip_hi, 'r', linewidth=1.5,label='Alto')\n",
        "ax2.set_title('Valor da gorjeta')\n",
        "ax2.legend()"
      ],
      "metadata": {
        "colab": {
          "base_uri": "https://localhost:8080/"
        },
        "id": "nFUY7_CROjOR",
        "outputId": "a6afe600-00d2-43d1-e7ee-5fd2c572ee1b"
      },
      "execution_count": 11,
      "outputs": [
        {
          "output_type": "execute_result",
          "data": {
            "text/plain": [
              "<matplotlib.legend.Legend at 0x7e505cedf220>"
            ]
          },
          "metadata": {},
          "execution_count": 11
        }
      ]
    },
    {
      "cell_type": "code",
      "source": [
        "# Turn off top/right axes\n",
        "for ax in (ax0, ax1, ax2):\n",
        "    ax.spines['top'].set_visible(False)\n",
        "    ax.spines['right'].set_visible(False)\n",
        "    ax.get_xaxis().tick_bottom()\n",
        "    ax.get_yaxis().tick_left()"
      ],
      "metadata": {
        "id": "80jshUxBOlkz"
      },
      "execution_count": 13,
      "outputs": []
    },
    {
      "cell_type": "code",
      "source": [
        "plt.tight_layout()\n",
        "plt.savefig(\"funções de inferência.png\")"
      ],
      "metadata": {
        "colab": {
          "base_uri": "https://localhost:8080/",
          "height": 34
        },
        "id": "BjWyb637Oq2m",
        "outputId": "5ca84787-4fab-473e-e02f-e64e8d1b3842"
      },
      "execution_count": 14,
      "outputs": [
        {
          "output_type": "display_data",
          "data": {
            "text/plain": [
              "<Figure size 640x480 with 0 Axes>"
            ]
          },
          "metadata": {}
        }
      ]
    },
    {
      "cell_type": "code",
      "source": [
        "#FUZZIFICAÇÃO E APLICAÇÃO DE REGRAS\n",
        "\n",
        "# Notas\n",
        "nota_comida = 4\n",
        "nota_servico = 7"
      ],
      "metadata": {
        "id": "DQgJyxxxOw4G"
      },
      "execution_count": 15,
      "outputs": []
    },
    {
      "cell_type": "code",
      "source": [
        "qual_level_lo = fuzz.interp_membership(x_qual, qual_lo, nota_comida)\n",
        "qual_level_md = fuzz.interp_membership(x_qual, qual_md, nota_comida)\n",
        "qual_level_hi = fuzz.interp_membership(x_qual, qual_hi, nota_comida)\n",
        "print(qual_level_lo, qual_level_md, qual_level_hi)"
      ],
      "metadata": {
        "colab": {
          "base_uri": "https://localhost:8080/"
        },
        "id": "fWYkmZPTOzOD",
        "outputId": "1c572fc8-bd98-4c36-ccb1-9d1bbe8d5f24"
      },
      "execution_count": 16,
      "outputs": [
        {
          "output_type": "stream",
          "name": "stdout",
          "text": [
            "0.2 0.8 0.0\n"
          ]
        }
      ]
    },
    {
      "cell_type": "code",
      "source": [
        "serv_level_lo = fuzz.interp_membership(x_serv, serv_lo, nota_servico)\n",
        "serv_level_md = fuzz.interp_membership(x_serv, serv_md, nota_servico)\n",
        "serv_level_hi = fuzz.interp_membership(x_serv, serv_hi, nota_servico)\n",
        "print(serv_level_lo, serv_level_md, serv_level_hi)"
      ],
      "metadata": {
        "colab": {
          "base_uri": "https://localhost:8080/"
        },
        "id": "fCvQyL9oO1eB",
        "outputId": "d7b6fd3c-6682-4379-9624-594d5a3c09af"
      },
      "execution_count": 17,
      "outputs": [
        {
          "output_type": "stream",
          "name": "stdout",
          "text": [
            "0.0 0.6 0.4\n"
          ]
        }
      ]
    },
    {
      "cell_type": "markdown",
      "source": [
        "# OU no sistema fuzzy retorna o valor maximo\n",
        "\n",
        "# Regras\n",
        "# SE o serviço foi ruim ou qualidade da comida foi ruim ENTAO a gorjeta sera baixa\n",
        "# SE o servico foi mediano ENTAO a gorjeta sera mediana\n",
        "# SE o servico foi bom ou a qualidade da comida era boa, ENATO a gorjeta sera alta\n",
        "\n",
        "# Inicio da a plicacao das regras. A regra 1 diz respeito a comida OU servico Ruim.\n",
        "# O operador OR significa que pegamos o maximo desses dois\n",
        "# DETERMINA O ANSTECEDENTE"
      ],
      "metadata": {
        "id": "ykfP7DAvO5q1"
      }
    },
    {
      "cell_type": "code",
      "source": [
        "regra1 = np.fmax(qual_level_lo, serv_level_lo) # OU - > Maximo"
      ],
      "metadata": {
        "id": "GRBhU8_7O8iG"
      },
      "execution_count": 18,
      "outputs": []
    },
    {
      "cell_type": "code",
      "source": [
        "# Aplica-se a gora a funcao de implicacao para formar CONSEQUENTE\n",
        "# membership function with 'np.fmim'\n",
        "tip_activation_lo = np.fmin(regra1, tip_lo)"
      ],
      "metadata": {
        "id": "OtJoea-kPAX_"
      },
      "execution_count": 19,
      "outputs": []
    },
    {
      "cell_type": "code",
      "source": [
        "# O ANTECEDENTE  é simples, dai a plica-se diretamente a funcao de implicacao\n",
        "# Para a regra 2, conectamos o servico Aceitavel a gorjeta media\n",
        "regra2 =  serv_level_md\n",
        "tip_activation_md = np.fmin(regra2, tip_md)"
      ],
      "metadata": {
        "id": "8BNjxIWbPDQu"
      },
      "execution_count": 20,
      "outputs": []
    },
    {
      "cell_type": "code",
      "source": [
        "# Para a regra3, conectamos servico Excelente OU comida Excelente com alta gorjeta\n",
        "regra3 = np.fmax(qual_level_hi, serv_level_hi)\n",
        "tip_activation_hi = np.fmin(regra3, tip_hi)"
      ],
      "metadata": {
        "id": "zR8-f0L2PFv3"
      },
      "execution_count": 21,
      "outputs": []
    },
    {
      "cell_type": "code",
      "source": [
        "# Visualizar resultados\n",
        "tip0 = np.zeros_like(x_tip)\n",
        "fig, ax0 = plt.subplots(figsize=(8,3))"
      ],
      "metadata": {
        "colab": {
          "base_uri": "https://localhost:8080/",
          "height": 297
        },
        "id": "5a3e4EMMPI6O",
        "outputId": "5d6c2c55-05f0-4f75-dc9d-d9f42e04a487"
      },
      "execution_count": 22,
      "outputs": [
        {
          "output_type": "display_data",
          "data": {
            "text/plain": [
              "<Figure size 800x300 with 1 Axes>"
            ],
            "image/png": "[encoded data removed]"
          },
          "metadata": {}
        }
      ]
    },
    {
      "cell_type": "code",
      "source": [
        "ax0.fill_between(x_tip, tip0, tip_activation_lo,facecolor='b', alpha=0.7)\n",
        "ax0.plot(x_tip, tip_lo, 'b', linewidth=0.5, linestyle='--')\n",
        "ax0.fill_between(x_tip, tip0, tip_activation_md,facecolor='g', alpha=0.7)\n",
        "ax0.plot(x_tip, tip_md, 'g', linewidth=0.5, linestyle='--')\n",
        "ax0.fill_between(x_tip, tip0, tip_activation_hi,facecolor='r', alpha=0.7)\n",
        "ax0.plot(x_tip, tip_hi, 'r', linewidth=0.5, linestyle='--')\n",
        "ax0.set_title('Saida da funcao de implicacao')"
      ],
      "metadata": {
        "colab": {
          "base_uri": "https://localhost:8080/"
        },
        "id": "c4qKhmkrPMu6",
        "outputId": "c600c697-afbb-426b-a8c1-437f1e205368"
      },
      "execution_count": 23,
      "outputs": [
        {
          "output_type": "execute_result",
          "data": {
            "text/plain": [
              "Text(0.5, 1.0, 'Saida da funcao de implicacao')"
            ]
          },
          "metadata": {},
          "execution_count": 23
        }
      ]
    },
    {
      "cell_type": "code",
      "source": [
        "# Desativa os eixos superior / direito\n",
        "for ax in (ax0,):\n",
        "    ax.spines['top'].set_visible(False)\n",
        "    ax.spines['right'].set_visible(False)\n",
        "    ax.get_xaxis().tick_bottom()\n",
        "    ax.get_yaxis().tick_left()\n",
        "\n",
        "plt.tight_layout()"
      ],
      "metadata": {
        "colab": {
          "base_uri": "https://localhost:8080/",
          "height": 34
        },
        "id": "s2ru0A3yPPwZ",
        "outputId": "66bb9687-1bc0-4ae0-b4c6-c8bd70577570"
      },
      "execution_count": 24,
      "outputs": [
        {
          "output_type": "display_data",
          "data": {
            "text/plain": [
              "<Figure size 640x480 with 0 Axes>"
            ]
          },
          "metadata": {}
        }
      ]
    },
    {
      "cell_type": "code",
      "source": [
        "# DEFUZZIFICAÇÃO\n",
        "\n",
        "# Agregar todas as tres funcoes de associacao de saida\n",
        "agregacao = np.fmax(tip_activation_lo,\n",
        "                    np.fmax(tip_activation_md, tip_activation_hi))\n"
      ],
      "metadata": {
        "id": "XKgjUrVSPUK1"
      },
      "execution_count": 25,
      "outputs": []
    },
    {
      "cell_type": "code",
      "source": [
        "# realiza a defuzzificacao com base no centroide\n",
        "gorjeta = fuzz.defuzz(x_tip, agregacao, 'centroid')"
      ],
      "metadata": {
        "id": "e3ix2VjoPWZO"
      },
      "execution_count": 26,
      "outputs": []
    },
    {
      "cell_type": "code",
      "source": [
        "# Apenas para plotage,m\n",
        "tip_activation = fuzz.interp_membership(x_tip, agregacao, gorjeta)"
      ],
      "metadata": {
        "id": "7nL39pzJPYiW"
      },
      "execution_count": 27,
      "outputs": []
    },
    {
      "cell_type": "code",
      "source": [
        "# visualizacao dos resultados\n",
        "fig, ax0 = plt.subplots(figsize=(8,3))"
      ],
      "metadata": {
        "colab": {
          "base_uri": "https://localhost:8080/",
          "height": 297
        },
        "id": "4VmTGlWbPbDI",
        "outputId": "f899566f-61d5-4b92-eb51-3396277f7723"
      },
      "execution_count": 28,
      "outputs": [
        {
          "output_type": "display_data",
          "data": {
            "text/plain": [
              "<Figure size 800x300 with 1 Axes>"
            ],
            "image/png": "[encoded data removed]"
          },
          "metadata": {}
        }
      ]
    },
    {
      "cell_type": "code",
      "source": [
        "ax0.plot(x_tip, tip_lo, 'b', linewidth=0.5,label='--')\n",
        "ax0.plot(x_tip, tip_md, 'g', linewidth=0.5,label='--')\n",
        "ax0.plot(x_tip, tip_hi, 'r', linewidth=0.5,label='--')\n",
        "ax0.fill_between(x_tip, tip0, agregacao,facecolor='Orange', alpha=0.7)\n",
        "ax0.plot([gorjeta, gorjeta], [0, tip_activation], 'k', linewidth=1.5,alpha=0.9)\n",
        "ax0.set_title('Agregacao das saidas e resultados (ver linha)')"
      ],
      "metadata": {
        "colab": {
          "base_uri": "https://localhost:8080/"
        },
        "id": "KAL37F6ZPd6S",
        "outputId": "3063d89a-f597-417f-8f6f-10c0e38e2bda"
      },
      "execution_count": 29,
      "outputs": [
        {
          "output_type": "execute_result",
          "data": {
            "text/plain": [
              "Text(0.5, 1.0, 'Agregacao das saidas e resultados (ver linha)')"
            ]
          },
          "metadata": {},
          "execution_count": 29
        }
      ]
    },
    {
      "cell_type": "code",
      "source": [
        "# Desativa os eixos superior / direito\n",
        "for ax in (ax0,):\n",
        "    ax.spines['top'].set_visible(False)\n",
        "    ax.spines['right'].set_visible(False)\n",
        "    ax.get_xaxis().tick_bottom()\n",
        "    ax.get_yaxis().tick_left()\n",
        "\n",
        "plt.tight_layout()"
      ],
      "metadata": {
        "colab": {
          "base_uri": "https://localhost:8080/",
          "height": 34
        },
        "id": "XYTavcZsPdzt",
        "outputId": "82651803-7c60-4e8c-c168-dba9a8114c75"
      },
      "execution_count": 30,
      "outputs": [
        {
          "output_type": "display_data",
          "data": {
            "text/plain": [
              "<Figure size 640x480 with 0 Axes>"
            ]
          },
          "metadata": {}
        }
      ]
    }
  ]
}