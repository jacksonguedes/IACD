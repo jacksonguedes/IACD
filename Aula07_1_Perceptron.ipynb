{
  "nbformat": 4,
  "nbformat_minor": 0,
  "metadata": {
    "colab": {
      "provenance": [],
      "authorship_tag": "ABX9TyONYjvmiyjB138EeHLYFyhX",
      "include_colab_link": true
    },
    "kernelspec": {
      "name": "python3",
      "display_name": "Python 3"
    },
    "language_info": {
      "name": "python"
    }
  },
  "cells": [
    {
      "cell_type": "markdown",
      "metadata": {
        "id": "view-in-github",
        "colab_type": "text"
      },
      "source": [
        "<a href=\"https://colab.research.google.com/github/jacksonguedes/IACD/blob/main/Aula07_1_Perceptron.ipynb\" target=\"_parent\"><img src=\"https://colab.research.google.com/assets/colab-badge.svg\" alt=\"Open In Colab\"/></a>"
      ]
    },
    {
      "cell_type": "code",
      "execution_count": 1,
      "metadata": {
        "id": "QxTlNuh-UM7Z"
      },
      "outputs": [],
      "source": [
        "import numpy as np"
      ]
    },
    {
      "cell_type": "code",
      "source": [
        "class Perceptron(object):\n",
        "\n",
        "    def __init__(self, num_entradas, epocas=20, taxa_aprendizagem=0.1):\n",
        "        self.epocas = epocas # nº epocas é o numero de vezes que irá passar pelos dados\n",
        "        self.taxa_aprendizagem = taxa_aprendizagem\n",
        "        self.pesos = np.zeros(num_entradas + 1) # Mais 01 do bias\n",
        "\n",
        "    def calc_saida(self, entradas):\n",
        "        net = np.dot(entradas, self.pesos[1:]) + self.pesos[0] # peos[0]-> bayes\n",
        "        if net > 0:\n",
        "            saida = 1\n",
        "        else:\n",
        "            saida = 0\n",
        "        return saida\n",
        "\n",
        "    def treinar(self, entradas_treino, alvos):\n",
        "        n_epoca = 0\n",
        "        for _ in range(self.epocas):\n",
        "            n_epoca = n_epoca + 1\n",
        "            erro = 0\n",
        "            for entradas, alvo in zip(entradas_treino, alvos):\n",
        "                estimacao = self.calc_saida(entradas)\n",
        "                erro = alvo - estimacao\n",
        "                print(\"Erro:\", erro, \", na epoca:\", n_epoca)\n",
        "                self.pesos[1:] += self.taxa_aprendizagem * erro * entradas\n",
        "                self.pesos[0] += self.taxa_aprendizagem * erro"
      ],
      "metadata": {
        "id": "6RRAFBeFUdpP"
      },
      "execution_count": 2,
      "outputs": []
    },
    {
      "cell_type": "code",
      "source": [
        "# Utilização\n",
        "# Entradas boleanos\n",
        "entradas_treino = []\n",
        "entradas_treino.append(np.array([1, 1]))\n",
        "entradas_treino.append(np.array([1, 0]))\n",
        "entradas_treino.append(np.array([0, 1]))\n",
        "entradas_treino.append(np.array([0, 0]))"
      ],
      "metadata": {
        "id": "VJxgkousUocD"
      },
      "execution_count": 3,
      "outputs": []
    },
    {
      "cell_type": "code",
      "source": [
        "# Saida AND\n",
        "alvos = np.array([1, 0, 0, 0])\n",
        "perceptron = Perceptron(2, 10, 0.1) # Informamos apenas o número de entradas (duas), os\n",
        "# Demais parâmetros ficaram com valores padrão\n",
        "perceptron.treinar(entradas_treino, alvos)\n",
        "\n",
        "entrada_teste = np.array([1, 1])\n",
        "saida_teste1 = perceptron.calc_saida(entrada_teste)\n",
        "print(saida_teste1)"
      ],
      "metadata": {
        "colab": {
          "base_uri": "https://localhost:8080/"
        },
        "id": "Pg_AuCeXUuEl",
        "outputId": "c91f6ca5-ff70-4247-e494-059bfa87c4b4"
      },
      "execution_count": 4,
      "outputs": [
        {
          "output_type": "stream",
          "name": "stdout",
          "text": [
            "Erro: 1 , na epoca: 1\n",
            "Erro: -1 , na epoca: 1\n",
            "Erro: -1 , na epoca: 1\n",
            "Erro: 0 , na epoca: 1\n",
            "Erro: 1 , na epoca: 2\n",
            "Erro: -1 , na epoca: 2\n",
            "Erro: 0 , na epoca: 2\n",
            "Erro: 0 , na epoca: 2\n",
            "Erro: 1 , na epoca: 3\n",
            "Erro: -1 , na epoca: 3\n",
            "Erro: -1 , na epoca: 3\n",
            "Erro: 0 , na epoca: 3\n",
            "Erro: 1 , na epoca: 4\n",
            "Erro: 0 , na epoca: 4\n",
            "Erro: -1 , na epoca: 4\n",
            "Erro: 0 , na epoca: 4\n",
            "Erro: 1 , na epoca: 5\n",
            "Erro: -1 , na epoca: 5\n",
            "Erro: 0 , na epoca: 5\n",
            "Erro: 0 , na epoca: 5\n",
            "Erro: 0 , na epoca: 6\n",
            "Erro: 0 , na epoca: 6\n",
            "Erro: 0 , na epoca: 6\n",
            "Erro: 0 , na epoca: 6\n",
            "Erro: 0 , na epoca: 7\n",
            "Erro: 0 , na epoca: 7\n",
            "Erro: 0 , na epoca: 7\n",
            "Erro: 0 , na epoca: 7\n",
            "Erro: 0 , na epoca: 8\n",
            "Erro: 0 , na epoca: 8\n",
            "Erro: 0 , na epoca: 8\n",
            "Erro: 0 , na epoca: 8\n",
            "Erro: 0 , na epoca: 9\n",
            "Erro: 0 , na epoca: 9\n",
            "Erro: 0 , na epoca: 9\n",
            "Erro: 0 , na epoca: 9\n",
            "Erro: 0 , na epoca: 10\n",
            "Erro: 0 , na epoca: 10\n",
            "Erro: 0 , na epoca: 10\n",
            "Erro: 0 , na epoca: 10\n",
            "1\n"
          ]
        }
      ]
    },
    {
      "cell_type": "code",
      "source": [
        "# => 1\n",
        "entrada_teste = np.array([1, 1])\n",
        "saida_teste2 = perceptron.calc_saida(entrada_teste)\n",
        "print(saida_teste2)"
      ],
      "metadata": {
        "colab": {
          "base_uri": "https://localhost:8080/"
        },
        "id": "nUunW4C-U00h",
        "outputId": "31c39a37-5494-4894-8d74-254a516ba695"
      },
      "execution_count": 9,
      "outputs": [
        {
          "output_type": "stream",
          "name": "stdout",
          "text": [
            "1\n"
          ]
        }
      ]
    }
  ]
}